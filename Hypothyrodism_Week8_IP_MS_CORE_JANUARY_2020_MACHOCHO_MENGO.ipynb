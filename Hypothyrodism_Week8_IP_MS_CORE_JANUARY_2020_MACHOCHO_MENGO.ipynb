{
  "nbformat": 4,
  "nbformat_minor": 0,
  "metadata": {
    "colab": {
      "name": "Hypothyrodism_Week8_IP_MS_CORE_JANUARY_2020_MACHOCHO_MENGO",
      "provenance": [],
      "collapsed_sections": [],
      "authorship_tag": "ABX9TyNZsaLDG1WLxBlWJEszs7eB",
      "include_colab_link": true
    },
    "kernelspec": {
      "name": "python3",
      "display_name": "Python 3"
    }
  },
  "cells": [
    {
      "cell_type": "markdown",
      "metadata": {
        "id": "view-in-github",
        "colab_type": "text"
      },
      "source": [
        "<a href=\"https://colab.research.google.com/github/Machocho254/HYpothyrodism-Prediction/blob/master/Hypothyrodism_Week8_IP_MS_CORE_JANUARY_2020_MACHOCHO_MENGO.ipynb\" target=\"_parent\"><img src=\"https://colab.research.google.com/assets/colab-badge.svg\" alt=\"Open In Colab\"/></a>"
      ]
    },
    {
      "cell_type": "markdown",
      "metadata": {
        "id": "5OpxDymETlg2",
        "colab_type": "text"
      },
      "source": [
        "# **NAIROBI HOSPITAL HYPOTHYRODISM CLINICAL CAMP**"
      ]
    },
    {
      "cell_type": "markdown",
      "metadata": {
        "id": "NKkIcVd93hR1",
        "colab_type": "text"
      },
      "source": [
        "# **BUSINESS UNDERSTANDING**"
      ]
    },
    {
      "cell_type": "markdown",
      "metadata": {
        "id": "EdviJjqsKo_P",
        "colab_type": "text"
      },
      "source": [
        "a) **DEFINITION OF THE QUESTION**\n",
        "\n",
        "The Nairobi Hospital conducted a clinic camp to test for hypothyrodism. As a data scientist I have been tasked with creating a model that will determine whether or not the patient's symptoms indicate that the patient has hypothyroidism from the provided data. "
      ]
    },
    {
      "cell_type": "markdown",
      "metadata": {
        "id": "mQeYDQQJUtQY",
        "colab_type": "text"
      },
      "source": [
        "**WHAT IS HYPOTHYRODISM**\n",
        "\n",
        "Hypothyrodism is a condition where the body produces too little thyroxine. Low thyroxine levels cause problems with development if it occurs when an individual is young. In adults, thyroxine deficiency will lower the metabolic rate, causing weight gain, memory problems, infertility, fatigue, and muscle stiffness.\n",
        "\n",
        "\n",
        "\n",
        "**Thyroxine**: is a hormone secreted in the thyroid glands into the bloodstream. It plays a crucial role in heart and digestive function, metabolism, brain development, bone health, and muscle control. It affects almost all of the body's systems, which means proper thyroxine levels are vital for health."
      ]
    },
    {
      "cell_type": "markdown",
      "metadata": {
        "id": "VNnKTyOQ91GN",
        "colab_type": "text"
      },
      "source": [
        "b) **DEFINITION OF THE METRIC OF SUCCESS**"
      ]
    },
    {
      "cell_type": "markdown",
      "metadata": {
        "id": "sRjkZk8OABfN",
        "colab_type": "text"
      },
      "source": [
        "c) **UNDERSTANDING THE CONTEXT**"
      ]
    },
    {
      "cell_type": "markdown",
      "metadata": {
        "id": "gz82TBYIAKcR",
        "colab_type": "text"
      },
      "source": [
        "d) **DATA RELEVANCE**"
      ]
    },
    {
      "cell_type": "markdown",
      "metadata": {
        "id": "TmMpnOxAgxYP",
        "colab_type": "text"
      },
      "source": [
        "# **DATA UNDERSTANDING**"
      ]
    },
    {
      "cell_type": "markdown",
      "metadata": {
        "id": "14zAwyt7AlUR",
        "colab_type": "text"
      },
      "source": [
        "## **Data Reading**\n",
        "\n",
        "Loading the data onto the notebook using pandas"
      ]
    },
    {
      "cell_type": "code",
      "metadata": {
        "id": "mVYC8InVBelk",
        "colab_type": "code",
        "colab": {}
      },
      "source": [
        "# importing the needed libraries\n",
        "#loading the libraries\n",
        "import pandas as pd\n",
        "import numpy as np\n",
        "import seaborn as sb\n",
        "from sklearn.preprocessing import LabelEncoder\n",
        "import matplotlib.pyplot as plt\n",
        "from sklearn.preprocessing import PolynomialFeatures\n",
        "from sklearn.model_selection import train_test_split\n",
        "from sklearn.linear_model import LinearRegression\n",
        "from sklearn.decomposition import PCA\n",
        "from sklearn.model_selection import train_test_split,GridSearchCV\n",
        "from sklearn.linear_model import LogisticRegression\n",
        "from sklearn.ensemble import RandomForestClassifier\n",
        "from sklearn.naive_bayes import GaussianNB\n",
        "from sklearn.metrics import mean_squared_error,r2_score,accuracy_score,f1_score,classification_report\n",
        "from sklearn.metrics import confusion_matrix\n",
        "from sklearn import metrics\n",
        "import warnings\n",
        "warnings.filterwarnings('ignore')\n",
        "%matplotlib inline"
      ],
      "execution_count": 0,
      "outputs": []
    },
    {
      "cell_type": "code",
      "metadata": {
        "id": "OoT-LKTWYhds",
        "colab_type": "code",
        "colab": {}
      },
      "source": [
        "# loading the data onto the notebook\n",
        "# \n",
        "thyroid = pd.read_csv('/content/hypothyroid.csv')\n"
      ],
      "execution_count": 0,
      "outputs": []
    },
    {
      "cell_type": "code",
      "metadata": {
        "id": "SQLTQ3WEBt5Y",
        "colab_type": "code",
        "outputId": "c08d04cc-a753-47d8-f0c0-b75b5596004a",
        "colab": {
          "base_uri": "https://localhost:8080/",
          "height": 224
        }
      },
      "source": [
        "# previewing the first observations of the dataset\n",
        "# \n",
        "thyroid.head()"
      ],
      "execution_count": 0,
      "outputs": [
        {
          "output_type": "execute_result",
          "data": {
            "text/html": [
              "<div>\n",
              "<style scoped>\n",
              "    .dataframe tbody tr th:only-of-type {\n",
              "        vertical-align: middle;\n",
              "    }\n",
              "\n",
              "    .dataframe tbody tr th {\n",
              "        vertical-align: top;\n",
              "    }\n",
              "\n",
              "    .dataframe thead th {\n",
              "        text-align: right;\n",
              "    }\n",
              "</style>\n",
              "<table border=\"1\" class=\"dataframe\">\n",
              "  <thead>\n",
              "    <tr style=\"text-align: right;\">\n",
              "      <th></th>\n",
              "      <th>status</th>\n",
              "      <th>age</th>\n",
              "      <th>sex</th>\n",
              "      <th>on_thyroxine</th>\n",
              "      <th>query_on_thyroxine</th>\n",
              "      <th>on_antithyroid_medication</th>\n",
              "      <th>thyroid_surgery</th>\n",
              "      <th>query_hypothyroid</th>\n",
              "      <th>query_hyperthyroid</th>\n",
              "      <th>pregnant</th>\n",
              "      <th>sick</th>\n",
              "      <th>tumor</th>\n",
              "      <th>lithium</th>\n",
              "      <th>goitre</th>\n",
              "      <th>TSH_measured</th>\n",
              "      <th>TSH</th>\n",
              "      <th>T3_measured</th>\n",
              "      <th>T3</th>\n",
              "      <th>TT4_measured</th>\n",
              "      <th>TT4</th>\n",
              "      <th>T4U_measured</th>\n",
              "      <th>T4U</th>\n",
              "      <th>FTI_measured</th>\n",
              "      <th>FTI</th>\n",
              "      <th>TBG_measured</th>\n",
              "      <th>TBG</th>\n",
              "    </tr>\n",
              "  </thead>\n",
              "  <tbody>\n",
              "    <tr>\n",
              "      <th>0</th>\n",
              "      <td>hypothyroid</td>\n",
              "      <td>72</td>\n",
              "      <td>M</td>\n",
              "      <td>f</td>\n",
              "      <td>f</td>\n",
              "      <td>f</td>\n",
              "      <td>f</td>\n",
              "      <td>f</td>\n",
              "      <td>f</td>\n",
              "      <td>f</td>\n",
              "      <td>f</td>\n",
              "      <td>f</td>\n",
              "      <td>f</td>\n",
              "      <td>f</td>\n",
              "      <td>y</td>\n",
              "      <td>30</td>\n",
              "      <td>y</td>\n",
              "      <td>0.60</td>\n",
              "      <td>y</td>\n",
              "      <td>15</td>\n",
              "      <td>y</td>\n",
              "      <td>1.48</td>\n",
              "      <td>y</td>\n",
              "      <td>10</td>\n",
              "      <td>n</td>\n",
              "      <td>?</td>\n",
              "    </tr>\n",
              "    <tr>\n",
              "      <th>1</th>\n",
              "      <td>hypothyroid</td>\n",
              "      <td>15</td>\n",
              "      <td>F</td>\n",
              "      <td>t</td>\n",
              "      <td>f</td>\n",
              "      <td>f</td>\n",
              "      <td>f</td>\n",
              "      <td>f</td>\n",
              "      <td>f</td>\n",
              "      <td>f</td>\n",
              "      <td>f</td>\n",
              "      <td>f</td>\n",
              "      <td>f</td>\n",
              "      <td>f</td>\n",
              "      <td>y</td>\n",
              "      <td>145</td>\n",
              "      <td>y</td>\n",
              "      <td>1.70</td>\n",
              "      <td>y</td>\n",
              "      <td>19</td>\n",
              "      <td>y</td>\n",
              "      <td>1.13</td>\n",
              "      <td>y</td>\n",
              "      <td>17</td>\n",
              "      <td>n</td>\n",
              "      <td>?</td>\n",
              "    </tr>\n",
              "    <tr>\n",
              "      <th>2</th>\n",
              "      <td>hypothyroid</td>\n",
              "      <td>24</td>\n",
              "      <td>M</td>\n",
              "      <td>f</td>\n",
              "      <td>f</td>\n",
              "      <td>f</td>\n",
              "      <td>f</td>\n",
              "      <td>f</td>\n",
              "      <td>f</td>\n",
              "      <td>f</td>\n",
              "      <td>f</td>\n",
              "      <td>f</td>\n",
              "      <td>f</td>\n",
              "      <td>f</td>\n",
              "      <td>y</td>\n",
              "      <td>0</td>\n",
              "      <td>y</td>\n",
              "      <td>0.20</td>\n",
              "      <td>y</td>\n",
              "      <td>4</td>\n",
              "      <td>y</td>\n",
              "      <td>1</td>\n",
              "      <td>y</td>\n",
              "      <td>0</td>\n",
              "      <td>n</td>\n",
              "      <td>?</td>\n",
              "    </tr>\n",
              "    <tr>\n",
              "      <th>3</th>\n",
              "      <td>hypothyroid</td>\n",
              "      <td>24</td>\n",
              "      <td>F</td>\n",
              "      <td>f</td>\n",
              "      <td>f</td>\n",
              "      <td>f</td>\n",
              "      <td>f</td>\n",
              "      <td>f</td>\n",
              "      <td>f</td>\n",
              "      <td>f</td>\n",
              "      <td>f</td>\n",
              "      <td>f</td>\n",
              "      <td>f</td>\n",
              "      <td>f</td>\n",
              "      <td>y</td>\n",
              "      <td>430</td>\n",
              "      <td>y</td>\n",
              "      <td>0.40</td>\n",
              "      <td>y</td>\n",
              "      <td>6</td>\n",
              "      <td>y</td>\n",
              "      <td>1.04</td>\n",
              "      <td>y</td>\n",
              "      <td>6</td>\n",
              "      <td>n</td>\n",
              "      <td>?</td>\n",
              "    </tr>\n",
              "    <tr>\n",
              "      <th>4</th>\n",
              "      <td>hypothyroid</td>\n",
              "      <td>77</td>\n",
              "      <td>M</td>\n",
              "      <td>f</td>\n",
              "      <td>f</td>\n",
              "      <td>f</td>\n",
              "      <td>f</td>\n",
              "      <td>f</td>\n",
              "      <td>f</td>\n",
              "      <td>f</td>\n",
              "      <td>f</td>\n",
              "      <td>f</td>\n",
              "      <td>f</td>\n",
              "      <td>f</td>\n",
              "      <td>y</td>\n",
              "      <td>7.30</td>\n",
              "      <td>y</td>\n",
              "      <td>1.20</td>\n",
              "      <td>y</td>\n",
              "      <td>57</td>\n",
              "      <td>y</td>\n",
              "      <td>1.28</td>\n",
              "      <td>y</td>\n",
              "      <td>44</td>\n",
              "      <td>n</td>\n",
              "      <td>?</td>\n",
              "    </tr>\n",
              "  </tbody>\n",
              "</table>\n",
              "</div>"
            ],
            "text/plain": [
              "        status age sex on_thyroxine  ... FTI_measured FTI TBG_measured TBG\n",
              "0  hypothyroid  72   M            f  ...            y  10            n   ?\n",
              "1  hypothyroid  15   F            t  ...            y  17            n   ?\n",
              "2  hypothyroid  24   M            f  ...            y   0            n   ?\n",
              "3  hypothyroid  24   F            f  ...            y   6            n   ?\n",
              "4  hypothyroid  77   M            f  ...            y  44            n   ?\n",
              "\n",
              "[5 rows x 26 columns]"
            ]
          },
          "metadata": {
            "tags": []
          },
          "execution_count": 3
        }
      ]
    },
    {
      "cell_type": "code",
      "metadata": {
        "id": "PDxSCjtdB3CW",
        "colab_type": "code",
        "outputId": "76bb87e2-609b-4712-e750-cc9cd7a036a7",
        "colab": {
          "base_uri": "https://localhost:8080/",
          "height": 224
        }
      },
      "source": [
        "# previewing the last observations of the dataset\n",
        "# \n",
        "thyroid.tail()"
      ],
      "execution_count": 0,
      "outputs": [
        {
          "output_type": "execute_result",
          "data": {
            "text/html": [
              "<div>\n",
              "<style scoped>\n",
              "    .dataframe tbody tr th:only-of-type {\n",
              "        vertical-align: middle;\n",
              "    }\n",
              "\n",
              "    .dataframe tbody tr th {\n",
              "        vertical-align: top;\n",
              "    }\n",
              "\n",
              "    .dataframe thead th {\n",
              "        text-align: right;\n",
              "    }\n",
              "</style>\n",
              "<table border=\"1\" class=\"dataframe\">\n",
              "  <thead>\n",
              "    <tr style=\"text-align: right;\">\n",
              "      <th></th>\n",
              "      <th>status</th>\n",
              "      <th>age</th>\n",
              "      <th>sex</th>\n",
              "      <th>on_thyroxine</th>\n",
              "      <th>query_on_thyroxine</th>\n",
              "      <th>on_antithyroid_medication</th>\n",
              "      <th>thyroid_surgery</th>\n",
              "      <th>query_hypothyroid</th>\n",
              "      <th>query_hyperthyroid</th>\n",
              "      <th>pregnant</th>\n",
              "      <th>sick</th>\n",
              "      <th>tumor</th>\n",
              "      <th>lithium</th>\n",
              "      <th>goitre</th>\n",
              "      <th>TSH_measured</th>\n",
              "      <th>TSH</th>\n",
              "      <th>T3_measured</th>\n",
              "      <th>T3</th>\n",
              "      <th>TT4_measured</th>\n",
              "      <th>TT4</th>\n",
              "      <th>T4U_measured</th>\n",
              "      <th>T4U</th>\n",
              "      <th>FTI_measured</th>\n",
              "      <th>FTI</th>\n",
              "      <th>TBG_measured</th>\n",
              "      <th>TBG</th>\n",
              "    </tr>\n",
              "  </thead>\n",
              "  <tbody>\n",
              "    <tr>\n",
              "      <th>3158</th>\n",
              "      <td>negative</td>\n",
              "      <td>58</td>\n",
              "      <td>F</td>\n",
              "      <td>f</td>\n",
              "      <td>f</td>\n",
              "      <td>f</td>\n",
              "      <td>f</td>\n",
              "      <td>f</td>\n",
              "      <td>f</td>\n",
              "      <td>f</td>\n",
              "      <td>f</td>\n",
              "      <td>f</td>\n",
              "      <td>f</td>\n",
              "      <td>f</td>\n",
              "      <td>y</td>\n",
              "      <td>5.80</td>\n",
              "      <td>y</td>\n",
              "      <td>1.70</td>\n",
              "      <td>y</td>\n",
              "      <td>86</td>\n",
              "      <td>y</td>\n",
              "      <td>0.91</td>\n",
              "      <td>y</td>\n",
              "      <td>95</td>\n",
              "      <td>n</td>\n",
              "      <td>?</td>\n",
              "    </tr>\n",
              "    <tr>\n",
              "      <th>3159</th>\n",
              "      <td>negative</td>\n",
              "      <td>29</td>\n",
              "      <td>F</td>\n",
              "      <td>f</td>\n",
              "      <td>f</td>\n",
              "      <td>f</td>\n",
              "      <td>f</td>\n",
              "      <td>f</td>\n",
              "      <td>f</td>\n",
              "      <td>f</td>\n",
              "      <td>f</td>\n",
              "      <td>f</td>\n",
              "      <td>f</td>\n",
              "      <td>f</td>\n",
              "      <td>y</td>\n",
              "      <td>0.80</td>\n",
              "      <td>y</td>\n",
              "      <td>1.80</td>\n",
              "      <td>y</td>\n",
              "      <td>99</td>\n",
              "      <td>y</td>\n",
              "      <td>1.01</td>\n",
              "      <td>y</td>\n",
              "      <td>98</td>\n",
              "      <td>n</td>\n",
              "      <td>?</td>\n",
              "    </tr>\n",
              "    <tr>\n",
              "      <th>3160</th>\n",
              "      <td>negative</td>\n",
              "      <td>77</td>\n",
              "      <td>M</td>\n",
              "      <td>f</td>\n",
              "      <td>f</td>\n",
              "      <td>f</td>\n",
              "      <td>f</td>\n",
              "      <td>f</td>\n",
              "      <td>f</td>\n",
              "      <td>f</td>\n",
              "      <td>f</td>\n",
              "      <td>f</td>\n",
              "      <td>f</td>\n",
              "      <td>f</td>\n",
              "      <td>y</td>\n",
              "      <td>1.20</td>\n",
              "      <td>y</td>\n",
              "      <td>0.60</td>\n",
              "      <td>y</td>\n",
              "      <td>71</td>\n",
              "      <td>y</td>\n",
              "      <td>0.68</td>\n",
              "      <td>y</td>\n",
              "      <td>104</td>\n",
              "      <td>n</td>\n",
              "      <td>?</td>\n",
              "    </tr>\n",
              "    <tr>\n",
              "      <th>3161</th>\n",
              "      <td>negative</td>\n",
              "      <td>74</td>\n",
              "      <td>F</td>\n",
              "      <td>f</td>\n",
              "      <td>f</td>\n",
              "      <td>f</td>\n",
              "      <td>f</td>\n",
              "      <td>f</td>\n",
              "      <td>f</td>\n",
              "      <td>f</td>\n",
              "      <td>f</td>\n",
              "      <td>f</td>\n",
              "      <td>f</td>\n",
              "      <td>f</td>\n",
              "      <td>y</td>\n",
              "      <td>1.30</td>\n",
              "      <td>y</td>\n",
              "      <td>0.10</td>\n",
              "      <td>y</td>\n",
              "      <td>65</td>\n",
              "      <td>y</td>\n",
              "      <td>0.48</td>\n",
              "      <td>y</td>\n",
              "      <td>137</td>\n",
              "      <td>n</td>\n",
              "      <td>?</td>\n",
              "    </tr>\n",
              "    <tr>\n",
              "      <th>3162</th>\n",
              "      <td>negative</td>\n",
              "      <td>56</td>\n",
              "      <td>F</td>\n",
              "      <td>t</td>\n",
              "      <td>f</td>\n",
              "      <td>f</td>\n",
              "      <td>f</td>\n",
              "      <td>f</td>\n",
              "      <td>f</td>\n",
              "      <td>f</td>\n",
              "      <td>f</td>\n",
              "      <td>f</td>\n",
              "      <td>f</td>\n",
              "      <td>f</td>\n",
              "      <td>y</td>\n",
              "      <td>0</td>\n",
              "      <td>y</td>\n",
              "      <td>1.80</td>\n",
              "      <td>y</td>\n",
              "      <td>139</td>\n",
              "      <td>y</td>\n",
              "      <td>0.97</td>\n",
              "      <td>y</td>\n",
              "      <td>143</td>\n",
              "      <td>n</td>\n",
              "      <td>?</td>\n",
              "    </tr>\n",
              "  </tbody>\n",
              "</table>\n",
              "</div>"
            ],
            "text/plain": [
              "        status age sex on_thyroxine  ... FTI_measured  FTI TBG_measured TBG\n",
              "3158  negative  58   F            f  ...            y   95            n   ?\n",
              "3159  negative  29   F            f  ...            y   98            n   ?\n",
              "3160  negative  77   M            f  ...            y  104            n   ?\n",
              "3161  negative  74   F            f  ...            y  137            n   ?\n",
              "3162  negative  56   F            t  ...            y  143            n   ?\n",
              "\n",
              "[5 rows x 26 columns]"
            ]
          },
          "metadata": {
            "tags": []
          },
          "execution_count": 4
        }
      ]
    },
    {
      "cell_type": "code",
      "metadata": {
        "id": "as4_A-7XCMSb",
        "colab_type": "code",
        "outputId": "7141e769-4434-496d-c397-c6ebb9edbfe2",
        "colab": {
          "base_uri": "https://localhost:8080/",
          "height": 34
        }
      },
      "source": [
        "# to get the number of rows and columns in the dataset\n",
        "# \n",
        "thyroid.shape\n",
        "\n",
        "# the data has 26 columns and 3163 rows"
      ],
      "execution_count": 0,
      "outputs": [
        {
          "output_type": "execute_result",
          "data": {
            "text/plain": [
              "(3163, 26)"
            ]
          },
          "metadata": {
            "tags": []
          },
          "execution_count": 5
        }
      ]
    },
    {
      "cell_type": "code",
      "metadata": {
        "id": "VMg2G0R3OdYx",
        "colab_type": "code",
        "outputId": "9a7e92ce-6768-4f86-cbbf-acc94bfcbf62",
        "colab": {
          "base_uri": "https://localhost:8080/",
          "height": 544
        }
      },
      "source": [
        "# to get the information about the data\n",
        "\n",
        "thyroid.info()\n"
      ],
      "execution_count": 0,
      "outputs": [
        {
          "output_type": "stream",
          "text": [
            "<class 'pandas.core.frame.DataFrame'>\n",
            "RangeIndex: 3163 entries, 0 to 3162\n",
            "Data columns (total 26 columns):\n",
            "status                       3163 non-null object\n",
            "age                          3163 non-null object\n",
            "sex                          3163 non-null object\n",
            "on_thyroxine                 3163 non-null object\n",
            "query_on_thyroxine           3163 non-null object\n",
            "on_antithyroid_medication    3163 non-null object\n",
            "thyroid_surgery              3163 non-null object\n",
            "query_hypothyroid            3163 non-null object\n",
            "query_hyperthyroid           3163 non-null object\n",
            "pregnant                     3163 non-null object\n",
            "sick                         3163 non-null object\n",
            "tumor                        3163 non-null object\n",
            "lithium                      3163 non-null object\n",
            "goitre                       3163 non-null object\n",
            "TSH_measured                 3163 non-null object\n",
            "TSH                          3163 non-null object\n",
            "T3_measured                  3163 non-null object\n",
            "T3                           3163 non-null object\n",
            "TT4_measured                 3163 non-null object\n",
            "TT4                          3163 non-null object\n",
            "T4U_measured                 3163 non-null object\n",
            "T4U                          3163 non-null object\n",
            "FTI_measured                 3163 non-null object\n",
            "FTI                          3163 non-null object\n",
            "TBG_measured                 3163 non-null object\n",
            "TBG                          3163 non-null object\n",
            "dtypes: object(26)\n",
            "memory usage: 642.6+ KB\n"
          ],
          "name": "stdout"
        }
      ]
    },
    {
      "cell_type": "markdown",
      "metadata": {
        "id": "CZUIfmiC-J0y",
        "colab_type": "text"
      },
      "source": [
        "There are variables that should be intergers. The datatypes will be changed to intergers for the exploratory data analysis. "
      ]
    },
    {
      "cell_type": "code",
      "metadata": {
        "id": "l1BHEnfMCbuS",
        "colab_type": "code",
        "outputId": "6dc795d7-7344-4091-f065-8609aef716f4",
        "colab": {
          "base_uri": "https://localhost:8080/",
          "height": 476
        }
      },
      "source": [
        "# to check whether the data has any missiing values\n",
        "# \n",
        "thyroid.isnull().sum()\n",
        "\n",
        "# the data does not have any missing values "
      ],
      "execution_count": 0,
      "outputs": [
        {
          "output_type": "execute_result",
          "data": {
            "text/plain": [
              "status                       0\n",
              "age                          0\n",
              "sex                          0\n",
              "on_thyroxine                 0\n",
              "query_on_thyroxine           0\n",
              "on_antithyroid_medication    0\n",
              "thyroid_surgery              0\n",
              "query_hypothyroid            0\n",
              "query_hyperthyroid           0\n",
              "pregnant                     0\n",
              "sick                         0\n",
              "tumor                        0\n",
              "lithium                      0\n",
              "goitre                       0\n",
              "TSH_measured                 0\n",
              "TSH                          0\n",
              "T3_measured                  0\n",
              "T3                           0\n",
              "TT4_measured                 0\n",
              "TT4                          0\n",
              "T4U_measured                 0\n",
              "T4U                          0\n",
              "FTI_measured                 0\n",
              "FTI                          0\n",
              "TBG_measured                 0\n",
              "TBG                          0\n",
              "dtype: int64"
            ]
          },
          "metadata": {
            "tags": []
          },
          "execution_count": 7
        }
      ]
    },
    {
      "cell_type": "code",
      "metadata": {
        "id": "mK87UywUC4GP",
        "colab_type": "code",
        "outputId": "d1f8903e-66b7-47d4-d961-ed93098bbc2b",
        "colab": {
          "base_uri": "https://localhost:8080/",
          "height": 855
        }
      },
      "source": [
        "# data description \n",
        "# \n",
        "thyroid.describe().T\n",
        "\n",
        "# from the output, it is evident that the data has some missing data as there are instances where the entry is ?\n",
        "# we have to find a way to identify the entries with ? and see whether we drop them or using the fill"
      ],
      "execution_count": 0,
      "outputs": [
        {
          "output_type": "execute_result",
          "data": {
            "text/html": [
              "<div>\n",
              "<style scoped>\n",
              "    .dataframe tbody tr th:only-of-type {\n",
              "        vertical-align: middle;\n",
              "    }\n",
              "\n",
              "    .dataframe tbody tr th {\n",
              "        vertical-align: top;\n",
              "    }\n",
              "\n",
              "    .dataframe thead th {\n",
              "        text-align: right;\n",
              "    }\n",
              "</style>\n",
              "<table border=\"1\" class=\"dataframe\">\n",
              "  <thead>\n",
              "    <tr style=\"text-align: right;\">\n",
              "      <th></th>\n",
              "      <th>count</th>\n",
              "      <th>unique</th>\n",
              "      <th>top</th>\n",
              "      <th>freq</th>\n",
              "    </tr>\n",
              "  </thead>\n",
              "  <tbody>\n",
              "    <tr>\n",
              "      <th>status</th>\n",
              "      <td>3163</td>\n",
              "      <td>2</td>\n",
              "      <td>negative</td>\n",
              "      <td>3012</td>\n",
              "    </tr>\n",
              "    <tr>\n",
              "      <th>age</th>\n",
              "      <td>3163</td>\n",
              "      <td>93</td>\n",
              "      <td>?</td>\n",
              "      <td>446</td>\n",
              "    </tr>\n",
              "    <tr>\n",
              "      <th>sex</th>\n",
              "      <td>3163</td>\n",
              "      <td>3</td>\n",
              "      <td>F</td>\n",
              "      <td>2182</td>\n",
              "    </tr>\n",
              "    <tr>\n",
              "      <th>on_thyroxine</th>\n",
              "      <td>3163</td>\n",
              "      <td>2</td>\n",
              "      <td>f</td>\n",
              "      <td>2702</td>\n",
              "    </tr>\n",
              "    <tr>\n",
              "      <th>query_on_thyroxine</th>\n",
              "      <td>3163</td>\n",
              "      <td>2</td>\n",
              "      <td>f</td>\n",
              "      <td>3108</td>\n",
              "    </tr>\n",
              "    <tr>\n",
              "      <th>on_antithyroid_medication</th>\n",
              "      <td>3163</td>\n",
              "      <td>2</td>\n",
              "      <td>f</td>\n",
              "      <td>3121</td>\n",
              "    </tr>\n",
              "    <tr>\n",
              "      <th>thyroid_surgery</th>\n",
              "      <td>3163</td>\n",
              "      <td>2</td>\n",
              "      <td>f</td>\n",
              "      <td>3059</td>\n",
              "    </tr>\n",
              "    <tr>\n",
              "      <th>query_hypothyroid</th>\n",
              "      <td>3163</td>\n",
              "      <td>2</td>\n",
              "      <td>f</td>\n",
              "      <td>2922</td>\n",
              "    </tr>\n",
              "    <tr>\n",
              "      <th>query_hyperthyroid</th>\n",
              "      <td>3163</td>\n",
              "      <td>2</td>\n",
              "      <td>f</td>\n",
              "      <td>2920</td>\n",
              "    </tr>\n",
              "    <tr>\n",
              "      <th>pregnant</th>\n",
              "      <td>3163</td>\n",
              "      <td>2</td>\n",
              "      <td>f</td>\n",
              "      <td>3100</td>\n",
              "    </tr>\n",
              "    <tr>\n",
              "      <th>sick</th>\n",
              "      <td>3163</td>\n",
              "      <td>2</td>\n",
              "      <td>f</td>\n",
              "      <td>3064</td>\n",
              "    </tr>\n",
              "    <tr>\n",
              "      <th>tumor</th>\n",
              "      <td>3163</td>\n",
              "      <td>2</td>\n",
              "      <td>f</td>\n",
              "      <td>3123</td>\n",
              "    </tr>\n",
              "    <tr>\n",
              "      <th>lithium</th>\n",
              "      <td>3163</td>\n",
              "      <td>2</td>\n",
              "      <td>f</td>\n",
              "      <td>3161</td>\n",
              "    </tr>\n",
              "    <tr>\n",
              "      <th>goitre</th>\n",
              "      <td>3163</td>\n",
              "      <td>2</td>\n",
              "      <td>f</td>\n",
              "      <td>3064</td>\n",
              "    </tr>\n",
              "    <tr>\n",
              "      <th>TSH_measured</th>\n",
              "      <td>3163</td>\n",
              "      <td>2</td>\n",
              "      <td>y</td>\n",
              "      <td>2695</td>\n",
              "    </tr>\n",
              "    <tr>\n",
              "      <th>TSH</th>\n",
              "      <td>3163</td>\n",
              "      <td>240</td>\n",
              "      <td>0</td>\n",
              "      <td>894</td>\n",
              "    </tr>\n",
              "    <tr>\n",
              "      <th>T3_measured</th>\n",
              "      <td>3163</td>\n",
              "      <td>2</td>\n",
              "      <td>y</td>\n",
              "      <td>2468</td>\n",
              "    </tr>\n",
              "    <tr>\n",
              "      <th>T3</th>\n",
              "      <td>3163</td>\n",
              "      <td>70</td>\n",
              "      <td>?</td>\n",
              "      <td>695</td>\n",
              "    </tr>\n",
              "    <tr>\n",
              "      <th>TT4_measured</th>\n",
              "      <td>3163</td>\n",
              "      <td>2</td>\n",
              "      <td>y</td>\n",
              "      <td>2914</td>\n",
              "    </tr>\n",
              "    <tr>\n",
              "      <th>TT4</th>\n",
              "      <td>3163</td>\n",
              "      <td>269</td>\n",
              "      <td>?</td>\n",
              "      <td>249</td>\n",
              "    </tr>\n",
              "    <tr>\n",
              "      <th>T4U_measured</th>\n",
              "      <td>3163</td>\n",
              "      <td>2</td>\n",
              "      <td>y</td>\n",
              "      <td>2915</td>\n",
              "    </tr>\n",
              "    <tr>\n",
              "      <th>T4U</th>\n",
              "      <td>3163</td>\n",
              "      <td>159</td>\n",
              "      <td>?</td>\n",
              "      <td>248</td>\n",
              "    </tr>\n",
              "    <tr>\n",
              "      <th>FTI_measured</th>\n",
              "      <td>3163</td>\n",
              "      <td>2</td>\n",
              "      <td>y</td>\n",
              "      <td>2916</td>\n",
              "    </tr>\n",
              "    <tr>\n",
              "      <th>FTI</th>\n",
              "      <td>3163</td>\n",
              "      <td>281</td>\n",
              "      <td>?</td>\n",
              "      <td>247</td>\n",
              "    </tr>\n",
              "    <tr>\n",
              "      <th>TBG_measured</th>\n",
              "      <td>3163</td>\n",
              "      <td>2</td>\n",
              "      <td>n</td>\n",
              "      <td>2903</td>\n",
              "    </tr>\n",
              "    <tr>\n",
              "      <th>TBG</th>\n",
              "      <td>3163</td>\n",
              "      <td>53</td>\n",
              "      <td>?</td>\n",
              "      <td>2903</td>\n",
              "    </tr>\n",
              "  </tbody>\n",
              "</table>\n",
              "</div>"
            ],
            "text/plain": [
              "                          count unique       top  freq\n",
              "status                     3163      2  negative  3012\n",
              "age                        3163     93         ?   446\n",
              "sex                        3163      3         F  2182\n",
              "on_thyroxine               3163      2         f  2702\n",
              "query_on_thyroxine         3163      2         f  3108\n",
              "on_antithyroid_medication  3163      2         f  3121\n",
              "thyroid_surgery            3163      2         f  3059\n",
              "query_hypothyroid          3163      2         f  2922\n",
              "query_hyperthyroid         3163      2         f  2920\n",
              "pregnant                   3163      2         f  3100\n",
              "sick                       3163      2         f  3064\n",
              "tumor                      3163      2         f  3123\n",
              "lithium                    3163      2         f  3161\n",
              "goitre                     3163      2         f  3064\n",
              "TSH_measured               3163      2         y  2695\n",
              "TSH                        3163    240         0   894\n",
              "T3_measured                3163      2         y  2468\n",
              "T3                         3163     70         ?   695\n",
              "TT4_measured               3163      2         y  2914\n",
              "TT4                        3163    269         ?   249\n",
              "T4U_measured               3163      2         y  2915\n",
              "T4U                        3163    159         ?   248\n",
              "FTI_measured               3163      2         y  2916\n",
              "FTI                        3163    281         ?   247\n",
              "TBG_measured               3163      2         n  2903\n",
              "TBG                        3163     53         ?  2903"
            ]
          },
          "metadata": {
            "tags": []
          },
          "execution_count": 62
        }
      ]
    },
    {
      "cell_type": "code",
      "metadata": {
        "id": "WnefmHGjFVCG",
        "colab_type": "code",
        "outputId": "f1b7e7bc-1079-454a-8281-d8145cdde57c",
        "colab": {
          "base_uri": "https://localhost:8080/",
          "height": 34
        }
      },
      "source": [
        "# to check for duplicates in the data\n",
        "# \n",
        "thyroid.duplicated().any()"
      ],
      "execution_count": 0,
      "outputs": [
        {
          "output_type": "execute_result",
          "data": {
            "text/plain": [
              "True"
            ]
          },
          "metadata": {
            "tags": []
          },
          "execution_count": 63
        }
      ]
    },
    {
      "cell_type": "code",
      "metadata": {
        "id": "fmHESPaxFgzC",
        "colab_type": "code",
        "outputId": "cb574825-03f9-470d-bed4-15668c2fdf08",
        "colab": {
          "base_uri": "https://localhost:8080/",
          "height": 34
        }
      },
      "source": [
        "# Remove duplicates\n",
        "# Keep every first data point of the duplicated datapoints\n",
        "#\n",
        "thyroid.drop_duplicates(keep='first', inplace = True)\n",
        "\n",
        "# Check to confirm whether duplicates have been dropped\n",
        "#\n",
        "thyroid.duplicated().any()"
      ],
      "execution_count": 0,
      "outputs": [
        {
          "output_type": "execute_result",
          "data": {
            "text/plain": [
              "False"
            ]
          },
          "metadata": {
            "tags": []
          },
          "execution_count": 64
        }
      ]
    },
    {
      "cell_type": "markdown",
      "metadata": {
        "id": "B7FFoVeh8eOu",
        "colab_type": "text"
      },
      "source": [
        "##### **UNIQUE VALUES**"
      ]
    },
    {
      "cell_type": "code",
      "metadata": {
        "id": "VXAk9cSiGMam",
        "colab_type": "code",
        "outputId": "8111ff19-2779-4dfd-a9ca-f424ea3ed2bd",
        "colab": {
          "base_uri": "https://localhost:8080/",
          "height": 1000
        }
      },
      "source": [
        "# checking for the unique values of the dataframe\n",
        "# using a for loop  to print unique values for each column\n",
        "#\n",
        "for column in thyroid.columns:\n",
        "  print(column)\n",
        "  print(df[column].nunique())\n",
        "  print(df[column].unique())\n",
        "  print('\\n')"
      ],
      "execution_count": 0,
      "outputs": [
        {
          "output_type": "stream",
          "text": [
            "status\n",
            "1\n",
            "[0]\n",
            "\n",
            "\n",
            "age\n",
            "92\n",
            "[72. 15. 24. 77. 85. 64. 20. 42. 69. 75. 53. 59. 68. 50. 78. 65. 28. 43.\n",
            " 40. 84. nan 83. 63. 73. 36. 27. 48. 71. 60. 34. 79. 62. 74. 32. 41. 70.\n",
            " 29.  5. 58. 35. 51. 22. 16. 44. 39. 47. 18. 17. 88. 56. 30. 45. 66. 52.\n",
            " 54. 80. 33. 38. 92. 67. 46. 13. 89. 61. 49. 26. 57. 31. 90. 81. 25. 37.\n",
            " 76. 87. 23. 55. 86. 98. 21. 97.  1.  6. 14. 82. 11. 19.  9. 12. 10.  8.\n",
            "  7.  4. 93.]\n",
            "\n",
            "\n",
            "sex\n",
            "2\n",
            "['M' 'F' nan]\n",
            "\n",
            "\n",
            "on_thyroxine\n",
            "2\n",
            "[0 1]\n",
            "\n",
            "\n",
            "query_on_thyroxine\n",
            "2\n",
            "[0 1]\n",
            "\n",
            "\n",
            "on_antithyroid_medication\n",
            "2\n",
            "[0 1]\n",
            "\n",
            "\n",
            "thyroid_surgery\n",
            "2\n",
            "[0 1]\n",
            "\n",
            "\n",
            "query_hypothyroid\n",
            "2\n",
            "[0 1]\n",
            "\n",
            "\n",
            "query_hyperthyroid\n",
            "2\n",
            "[0 1]\n",
            "\n",
            "\n",
            "pregnant\n",
            "2\n",
            "[0 1]\n",
            "\n",
            "\n",
            "sick\n",
            "2\n",
            "[0 1]\n",
            "\n",
            "\n",
            "tumor\n",
            "2\n",
            "[0 1]\n",
            "\n",
            "\n",
            "lithium\n",
            "2\n",
            "[0 1]\n",
            "\n",
            "\n",
            "goitre\n",
            "2\n",
            "[0 1]\n",
            "\n",
            "\n",
            "TSH_measured\n",
            "2\n",
            "['y' 'n']\n",
            "\n",
            "\n",
            "TSH\n",
            "239\n",
            "[3.00e+01 1.45e+02 0.00e+00 4.30e+02 7.30e+00 1.38e+02 7.70e+00 2.10e+01\n",
            " 9.20e+01 4.80e+01 3.60e+01 1.50e+01 1.53e+01 2.50e+01 6.10e+01 2.80e+01\n",
            " 1.70e+02 5.40e+01 2.16e+02 5.60e+01 7.10e+01 4.60e+01 7.00e+01 3.40e+01\n",
            " 5.30e+01 9.40e+00 1.26e+02 1.00e+01 5.30e+02 3.50e+01 6.50e+01 5.70e+01\n",
            " 1.25e+02 2.30e+01 8.00e+01 1.17e+02 4.90e+01 6.60e+01 8.20e+00 1.50e+02\n",
            "      nan 1.80e+01 1.65e+02 1.64e+02 2.40e+01 9.00e+01 7.70e+01 1.90e+01\n",
            " 5.80e+01 1.00e+02 2.13e+02 1.70e+01 2.35e+02 1.53e+02 1.30e+01 3.10e+01\n",
            " 1.09e+02 2.60e+02 4.30e+01 1.20e+01 1.10e+01 5.50e+01 6.50e+00 2.00e+01\n",
            " 7.50e+00 1.40e+01 6.00e+01 1.40e+02 3.30e+01 8.70e+00 2.50e-01 1.07e+01\n",
            " 8.20e+01 4.50e+01 4.20e+01 4.10e+01 1.60e+02 1.60e+01 8.90e+01 4.40e+01\n",
            " 1.76e+02 6.40e+00 1.83e+02 2.90e+01 3.70e+01 3.90e+01 7.90e+00 5.90e+01\n",
            " 6.80e+01 3.80e+01 4.70e+01 1.43e+02 6.60e+00 2.88e+02 9.60e+01 5.00e-01\n",
            " 1.20e+00 1.90e+00 9.00e-02 3.10e+00 4.00e-01 8.50e-01 3.00e-01 9.00e-01\n",
            " 1.50e+00 4.60e+00 2.00e-01 5.80e+00 4.00e+00 1.40e+00 2.00e+00 2.60e+00\n",
            " 2.90e+00 8.00e-01 4.90e+00 1.03e+01 2.30e+00 7.00e-01 6.00e-01 1.30e+00\n",
            " 2.50e+00 5.10e+00 1.70e+00 2.70e+00 2.20e+01 8.10e+00 3.30e+00 5.00e+00\n",
            " 3.20e+00 1.80e+00 1.10e+00 4.60e-01 1.00e+00 5.60e+00 4.40e+00 1.65e+01\n",
            " 2.10e+00 6.30e+00 5.50e+00 7.40e+00 5.90e+00 1.50e-01 1.49e+01 2.20e+00\n",
            " 9.70e+00 9.60e+00 1.60e+00 3.70e+00 3.00e+00 2.80e+00 1.00e-01 4.20e+00\n",
            " 2.70e+01 3.50e+00 5.00e-02 1.92e+01 8.00e+00 9.10e+00 3.60e+00 7.80e+00\n",
            " 3.80e+00 8.50e+00 9.20e+00 5.20e+01 2.40e+00 3.90e+00 3.00e-02 4.00e-02\n",
            " 2.60e+01 6.10e+00 6.50e-01 9.20e-01 7.60e+00 8.40e+00 1.44e+01 1.05e+00\n",
            " 3.70e-01 1.78e+02 6.90e+00 4.50e+00 4.70e+00 4.00e+01 6.00e+00 4.10e+00\n",
            " 1.43e+01 5.40e+00 8.30e+00 6.00e-02 8.80e+00 8.90e+00 7.10e+00 4.80e+00\n",
            " 4.30e-01 6.70e+00 2.00e+02 8.60e+00 8.60e+01 2.10e-01 9.00e+00 2.60e-01\n",
            " 3.40e+00 6.20e+00 1.74e+01 8.50e+01 1.83e+00 6.30e+01 1.33e+01 2.00e-02\n",
            " 4.20e-01 9.50e+00 8.40e-01 8.80e-01 4.30e+00 6.70e-01 8.10e-01 5.20e+00\n",
            " 9.80e+00 7.60e+01 6.20e-01 1.00e-02 1.14e+01 8.80e+01 6.80e-01 7.00e-02\n",
            " 6.90e-01 7.70e-01 9.90e+00 6.40e-01 1.32e+01 6.80e+00 2.80e-01 1.16e+01\n",
            " 9.10e-01 1.01e+00 2.30e-01 3.50e-01 5.00e+01 3.20e+01 8.30e-01 8.00e-02]\n",
            "\n",
            "\n",
            "T3_measured\n",
            "2\n",
            "['y' 'n']\n",
            "\n",
            "\n",
            "T3\n",
            "69\n",
            "[ 0.6   1.7   0.2   0.4   1.2   1.1   1.3   1.9    nan  0.8   2.2   1.5\n",
            "  2.7   2.    0.3   2.1   0.5   0.7   1.    1.4   2.3   2.4   0.9   1.8\n",
            "  0.    2.8   1.6   6.7   3.3   3.    2.5   2.6   4.    9.8   3.9   3.4\n",
            "  3.8   4.5   3.2   3.7   4.3   2.9   3.1   3.5   3.6   6.6   4.9   8.9\n",
            "  4.1   5.    5.3   7.6   7.3   4.2   4.4   5.1   7.    0.1   0.05  4.7\n",
            "  6.2   5.5   4.6   6.1   8.1   5.2   5.6   4.8  10.2   8.6 ]\n",
            "\n",
            "\n",
            "TT4_measured\n",
            "2\n",
            "['y' 'n']\n",
            "\n",
            "\n",
            "TT4\n",
            "268\n",
            "[ 15.   19.    4.    6.   57.   27.   54.   34.   39.    7.6  53.   38.\n",
            "  98.   44.   37.   81.   13.   17.   12.   50.   23.   14.    3.9  52.\n",
            "  32.   30.   84.   10.   55.   24.   28.   11.    6.6  31.   33.   41.\n",
            "   9.   78.   42.    8.1  65.   16.    9.7  46.   22.   61.    2.3  21.\n",
            "   7.5  18.   66.   25.   43.    2.    3.   58.   59.   71.   74.   56.\n",
            "  40.   20.   48.  230.   70.    4.1  63.    5.3   2.9  62.   75.   68.\n",
            "  45.   47.   36.   80.  109.    8.6  83.   82.  101.   76.  103.  112.\n",
            " 206.  110.   93.   79.  121.    nan 107.   88.  187.  254.  115.  113.\n",
            " 260.  117.  164.   97.   64.  129.  111.  106.   95.   87.  105.   90.\n",
            "  67.  134.   35.  193.  143.  130.  108.   86.   96.   92.   99.  216.\n",
            " 152.  125.  138.  194.   91.  120.  102.  170.  126.  116.  140.   94.\n",
            " 159.   85.  210.   89.  151.  247.  139.  153.  178.  123.  137.  161.\n",
            "   7.3  72.  202.  122.  124.  157.  118.  104.  135.  186.  241.  131.\n",
            " 119.  100.  220.  176.  136.  183.  155.  208.  199.  154.  169.  128.\n",
            " 235.  195.  267.  232.  197.  212.  149.  127.  245.  132.  162.   77.\n",
            " 142.   69.  173.  141.  156.  181.  189.   60.  114.  198.  147.  191.\n",
            " 177.  174.  207.  168.   73.  160.  145.  200.  182.  158.  203.  209.\n",
            " 217.  430.  213.  218.  163.  296.  167.  148.  166.  185.  248.  172.\n",
            " 144.  150.  165.  196.  308.  146.  426.  224.   29.  204.  201.  133.\n",
            " 180.  184.  450.  244.  301.  255.  252.  396.  223.  261.  250.  179.\n",
            " 219.  190.   51.  221.  171.  242.  275.  211.   49.  239.  205.  222.\n",
            " 256.  214.  282.  287.  253.  269.  175.  228.  333.  258.  236.  225.\n",
            " 263.  283.  359.  188.  240. ]\n",
            "\n",
            "\n",
            "T4U_measured\n",
            "2\n",
            "['y' 'n']\n",
            "\n",
            "\n",
            "T4U\n",
            "158\n",
            "[1.48 1.13 1.   1.04 1.28 1.19 0.86 1.05 1.21 1.02 0.92 1.29 0.98 1.08\n",
            " 1.01 1.18 1.1  1.27 0.83 1.11 0.78 1.39 1.12 0.93 0.99 0.9  1.06 0.68\n",
            " 0.67 1.14 0.8  0.96 0.95 1.46 1.03 0.97 0.94 1.09 1.24 1.23 1.53 1.26\n",
            " 1.4  1.17 0.87 0.61 0.7  1.07 1.73 1.45 1.2  0.89 0.84 0.91 0.85 1.35\n",
            " 0.82 1.5  0.74 1.71 1.79 0.73 0.77 1.25  nan 0.88 0.72 0.31 0.   0.79\n",
            " 0.81 0.71 1.93 1.32 0.66 1.68 1.42 1.7  1.83 1.41 1.34 1.65 1.22 0.75\n",
            " 1.74 0.69 1.51 0.76 1.16 0.35 0.62 0.54 1.36 1.33 1.3  0.48 1.59 1.75\n",
            " 1.86 1.38 1.43 1.62 2.01 0.3  1.31 1.15 1.57 0.55 1.66 0.52 1.97 1.47\n",
            " 0.36 1.88 1.55 0.34 1.67 0.58 0.6  0.59 1.37 1.76 0.64 1.8  0.41 0.2\n",
            " 1.77 0.33 1.54 0.46 0.32 1.44 1.56 0.56 1.52 2.03 0.65 0.63 1.96 0.53\n",
            " 0.47 0.29 2.21 1.69 1.64 1.49 1.72 1.58 0.57 1.61 0.28 2.   1.63 0.27\n",
            " 1.94 0.5  0.49 0.4  0.38]\n",
            "\n",
            "\n",
            "FTI_measured\n",
            "2\n",
            "['y' 'n']\n",
            "\n",
            "\n",
            "FTI\n",
            "280\n",
            "[ 10.   17.    0.    6.   44.   23.   63.   32.    7.5  61.   41.   76.\n",
            "  45.   34.   81.   11.   16.   46.   22.   12.    5.   47.   29.   37.\n",
            "  60.    8.4   8.5  24.   28.    7.   49.   36.   15.    9.   80.   53.\n",
            "   7.2  68.    6.6  48.   21.   14.    2.   20.    1.4  56.    3.   51.\n",
            "  13.   43.   78.   52.   64.   26.   35.   31.  133.    3.4  54.    8.9\n",
            "  57.    5.5  58.   55.    2.8  66.    4.   40.   50.    8.7  87.   89.\n",
            " 112.  123.   99.   92.  104.   69.  196.  107.  106.   74.   97.    nan\n",
            " 122.   84.  114.  124.  241.  119.  120.  136.   85.  127.  839.  137.\n",
            " 197.   96.   77.  108.   82.   72.   94.   91.  240.  121.  109.   79.\n",
            " 100.   98.   73.  117.  165.  103.   88.  101.  126.  132.  128.  143.\n",
            " 152.  141.  186.  113.  102.  125.   93.  105.  159.  188.   71.  149.\n",
            " 116.   83.  176.  161.   86.  140.  111.  158.  115.  171.   90.   95.\n",
            "  70.  135.  134.  178.  110.  170.  205.  695.  155.  118.  741.  131.\n",
            " 129.  142.  153.   75.  254.  246.  139.  185.  157.  147.  164.  130.\n",
            " 222.  650.  174.  182.  144.  169.  257.  145.  345.  180.  167.  151.\n",
            " 154.  150.  219.  228.   65.  187.  166.  195.  208.  138.   33.  173.\n",
            " 146.  211.  181.  190.  247.  221.  395.  216.  212.  148.  162.  220.\n",
            " 370.  450.  160.   59.  189.  203.  168.  179.  264.  470.  184.  163.\n",
            "  67.  213.  354.  292.  359.  172.  156.  334.  177.  214.  194.  192.\n",
            " 215.  217.  271.  250.  244.  308.  881.  258.  316.  200.  711.  256.\n",
            " 232.  202.   39.  248.  237.  259.  445.   19.  852.   42.  235.  634.\n",
            " 283.  305.  204.  229.  332.  550.  249.  263.  615.  266.  198.  175.\n",
            " 209.  299.  193.  227.  223.  337.  210.  272.  702.  218.  239.  355.\n",
            " 482.  347.  485.  612.  428. ]\n",
            "\n",
            "\n",
            "TBG_measured\n",
            "2\n",
            "['n' 'y']\n",
            "\n",
            "\n",
            "TBG\n",
            "52\n",
            "[nan '28' '34' '0' '19' '30' '25' '48' '39' '31' '16' '21' '37' '40' '27'\n",
            " '3.10' '38' '108' '20' '36' '17' '23' '35' '32' '63' '9.30' '15' '26'\n",
            " '33' '41' '110' '22' '43' '53' '80' '47' '29' '13' '24' '18' '45' '86'\n",
            " '50' '8.40' '52' '11' '12' '14' '65' '7.30' '8.50' '69' '122']\n",
            "\n",
            "\n"
          ],
          "name": "stdout"
        }
      ]
    },
    {
      "cell_type": "markdown",
      "metadata": {
        "id": "JJ6KNMhl3Pvc",
        "colab_type": "text"
      },
      "source": [
        "# 3.0 **DATA PREPARATION**"
      ]
    },
    {
      "cell_type": "markdown",
      "metadata": {
        "id": "awKJM8cGTj8o",
        "colab_type": "text"
      },
      "source": [
        "##  3.1 **DATA CLEANING**"
      ]
    },
    {
      "cell_type": "code",
      "metadata": {
        "id": "M11NidCEHHFW",
        "colab_type": "code",
        "colab": {}
      },
      "source": [
        "# replace all the question marks with a null value\n",
        "# \n",
        "df = thyroid.replace(\"?\", np.nan)"
      ],
      "execution_count": 0,
      "outputs": []
    },
    {
      "cell_type": "code",
      "metadata": {
        "id": "40gl7ux7HzIA",
        "colab_type": "code",
        "outputId": "3416a4c2-ee99-4e26-c683-5dafc8f1aaeb",
        "colab": {
          "base_uri": "https://localhost:8080/",
          "height": 476
        }
      },
      "source": [
        "# to check the datatypes of the columns of the df\n",
        "# \n",
        "df.dtypes\n",
        "\n",
        "# there are columns who's datatypes will have to be changed.\n",
        "# numerical, categorical data and boolean"
      ],
      "execution_count": 0,
      "outputs": [
        {
          "output_type": "execute_result",
          "data": {
            "text/plain": [
              "status                       object\n",
              "age                          object\n",
              "sex                          object\n",
              "on_thyroxine                 object\n",
              "query_on_thyroxine           object\n",
              "on_antithyroid_medication    object\n",
              "thyroid_surgery              object\n",
              "query_hypothyroid            object\n",
              "query_hyperthyroid           object\n",
              "pregnant                     object\n",
              "sick                         object\n",
              "tumor                        object\n",
              "lithium                      object\n",
              "goitre                       object\n",
              "TSH_measured                 object\n",
              "TSH                          object\n",
              "T3_measured                  object\n",
              "T3                           object\n",
              "TT4_measured                 object\n",
              "TT4                          object\n",
              "T4U_measured                 object\n",
              "T4U                          object\n",
              "FTI_measured                 object\n",
              "FTI                          object\n",
              "TBG_measured                 object\n",
              "TBG                          object\n",
              "dtype: object"
            ]
          },
          "metadata": {
            "tags": []
          },
          "execution_count": 69
        }
      ]
    },
    {
      "cell_type": "code",
      "metadata": {
        "id": "xNBnGMnPHUlZ",
        "colab_type": "code",
        "outputId": "b53b3c48-ab6c-4eee-e9fb-c7bf23f0a131",
        "colab": {
          "base_uri": "https://localhost:8080/",
          "height": 476
        }
      },
      "source": [
        "# Changing column datatypes to their appriopriate datatypes\n",
        "# creating lists for: numerial, categorical and boolean columns\n",
        "\n",
        "\n",
        "num_cols = ['age', 'TSH', 'T3', 'TT4', 'T4U', 'FTI']\n",
        "\n",
        "cat_cols = ['status', 'sex','TSH_measured', 'T3_measured', 'TT4_measured',\\\n",
        "            'T4U_measured', 'FTI_measured', 'TBG_measured']\n",
        "\n",
        "bool_cols = ['on_thyroxine', 'query_on_thyroxine','on_antithyroid_medication', 'thyroid_surgery', 'query_hypothyroid',\\\n",
        "            'query_hyperthyroid', 'pregnant', 'sick', 'tumor', 'lithium', 'goitre']\n",
        "\n",
        "# Replacing bool columns with True or False value\n",
        "#\n",
        "for column in bool_cols:\n",
        "  df[column] = df[column].replace('f', False)\n",
        "  df[column] = df[column].replace('t', True)\n",
        "  \n",
        "# Using a for loop to change columns to their appriopriate datatypes\n",
        "#\n",
        "for column in df.columns:\n",
        "  if column in num_cols:\n",
        "    df[column] = df[column].astype('float')\n",
        "  elif column in cat_cols:\n",
        "    df[column] = df[column].astype('category')\n",
        "  elif column in bool_cols:\n",
        "    df[column] = df[column].astype('bool')\n",
        "  \n",
        "# Previewing the column datatypes to check whether the changes have been effected\n",
        "#\n",
        "df.dtypes"
      ],
      "execution_count": 0,
      "outputs": [
        {
          "output_type": "execute_result",
          "data": {
            "text/plain": [
              "status                       category\n",
              "age                           float64\n",
              "sex                          category\n",
              "on_thyroxine                     bool\n",
              "query_on_thyroxine               bool\n",
              "on_antithyroid_medication        bool\n",
              "thyroid_surgery                  bool\n",
              "query_hypothyroid                bool\n",
              "query_hyperthyroid               bool\n",
              "pregnant                         bool\n",
              "sick                             bool\n",
              "tumor                            bool\n",
              "lithium                          bool\n",
              "goitre                           bool\n",
              "TSH_measured                 category\n",
              "TSH                           float64\n",
              "T3_measured                  category\n",
              "T3                            float64\n",
              "TT4_measured                 category\n",
              "TT4                           float64\n",
              "T4U_measured                 category\n",
              "T4U                           float64\n",
              "FTI_measured                 category\n",
              "FTI                           float64\n",
              "TBG_measured                 category\n",
              "TBG                            object\n",
              "dtype: object"
            ]
          },
          "metadata": {
            "tags": []
          },
          "execution_count": 73
        }
      ]
    },
    {
      "cell_type": "code",
      "metadata": {
        "id": "AWCtujuXDPQx",
        "colab_type": "code",
        "outputId": "019fb6de-253c-4c71-b639-94719a869604",
        "colab": {
          "base_uri": "https://localhost:8080/",
          "height": 297
        }
      },
      "source": [
        "# statistical description of the new df \n",
        "# \n",
        "df.describe()"
      ],
      "execution_count": 0,
      "outputs": [
        {
          "output_type": "execute_result",
          "data": {
            "text/html": [
              "<div>\n",
              "<style scoped>\n",
              "    .dataframe tbody tr th:only-of-type {\n",
              "        vertical-align: middle;\n",
              "    }\n",
              "\n",
              "    .dataframe tbody tr th {\n",
              "        vertical-align: top;\n",
              "    }\n",
              "\n",
              "    .dataframe thead th {\n",
              "        text-align: right;\n",
              "    }\n",
              "</style>\n",
              "<table border=\"1\" class=\"dataframe\">\n",
              "  <thead>\n",
              "    <tr style=\"text-align: right;\">\n",
              "      <th></th>\n",
              "      <th>age</th>\n",
              "      <th>TSH</th>\n",
              "      <th>T3</th>\n",
              "      <th>TT4</th>\n",
              "      <th>T4U</th>\n",
              "      <th>FTI</th>\n",
              "    </tr>\n",
              "  </thead>\n",
              "  <tbody>\n",
              "    <tr>\n",
              "      <th>count</th>\n",
              "      <td>2648.000000</td>\n",
              "      <td>2631.000000</td>\n",
              "      <td>2406.000000</td>\n",
              "      <td>2846.000000</td>\n",
              "      <td>2847.000000</td>\n",
              "      <td>2848.000000</td>\n",
              "    </tr>\n",
              "    <tr>\n",
              "      <th>mean</th>\n",
              "      <td>51.112538</td>\n",
              "      <td>5.809320</td>\n",
              "      <td>1.933666</td>\n",
              "      <td>108.706922</td>\n",
              "      <td>0.977559</td>\n",
              "      <td>115.489080</td>\n",
              "    </tr>\n",
              "    <tr>\n",
              "      <th>std</th>\n",
              "      <td>19.275099</td>\n",
              "      <td>24.023192</td>\n",
              "      <td>0.979488</td>\n",
              "      <td>44.606704</td>\n",
              "      <td>0.225796</td>\n",
              "      <td>60.147649</td>\n",
              "    </tr>\n",
              "    <tr>\n",
              "      <th>min</th>\n",
              "      <td>1.000000</td>\n",
              "      <td>0.000000</td>\n",
              "      <td>0.000000</td>\n",
              "      <td>2.000000</td>\n",
              "      <td>0.000000</td>\n",
              "      <td>0.000000</td>\n",
              "    </tr>\n",
              "    <tr>\n",
              "      <th>25%</th>\n",
              "      <td>35.000000</td>\n",
              "      <td>0.000000</td>\n",
              "      <td>1.400000</td>\n",
              "      <td>83.000000</td>\n",
              "      <td>0.850000</td>\n",
              "      <td>91.000000</td>\n",
              "    </tr>\n",
              "    <tr>\n",
              "      <th>50%</th>\n",
              "      <td>54.000000</td>\n",
              "      <td>0.700000</td>\n",
              "      <td>1.800000</td>\n",
              "      <td>104.000000</td>\n",
              "      <td>0.960000</td>\n",
              "      <td>107.000000</td>\n",
              "    </tr>\n",
              "    <tr>\n",
              "      <th>75%</th>\n",
              "      <td>67.000000</td>\n",
              "      <td>2.200000</td>\n",
              "      <td>2.300000</td>\n",
              "      <td>127.000000</td>\n",
              "      <td>1.060000</td>\n",
              "      <td>129.000000</td>\n",
              "    </tr>\n",
              "    <tr>\n",
              "      <th>max</th>\n",
              "      <td>98.000000</td>\n",
              "      <td>530.000000</td>\n",
              "      <td>10.200000</td>\n",
              "      <td>450.000000</td>\n",
              "      <td>2.210000</td>\n",
              "      <td>881.000000</td>\n",
              "    </tr>\n",
              "  </tbody>\n",
              "</table>\n",
              "</div>"
            ],
            "text/plain": [
              "               age          TSH  ...          T4U          FTI\n",
              "count  2648.000000  2631.000000  ...  2847.000000  2848.000000\n",
              "mean     51.112538     5.809320  ...     0.977559   115.489080\n",
              "std      19.275099    24.023192  ...     0.225796    60.147649\n",
              "min       1.000000     0.000000  ...     0.000000     0.000000\n",
              "25%      35.000000     0.000000  ...     0.850000    91.000000\n",
              "50%      54.000000     0.700000  ...     0.960000   107.000000\n",
              "75%      67.000000     2.200000  ...     1.060000   129.000000\n",
              "max      98.000000   530.000000  ...     2.210000   881.000000\n",
              "\n",
              "[8 rows x 6 columns]"
            ]
          },
          "metadata": {
            "tags": []
          },
          "execution_count": 74
        }
      ]
    },
    {
      "cell_type": "code",
      "metadata": {
        "id": "fZCl4jW8IGzf",
        "colab_type": "code",
        "outputId": "7e0d2f50-45d7-46a8-897b-45493d73637e",
        "colab": {
          "base_uri": "https://localhost:8080/",
          "height": 476
        }
      },
      "source": [
        "# checking for missing data\n",
        "# \n",
        "df.isnull().sum()"
      ],
      "execution_count": 0,
      "outputs": [
        {
          "output_type": "execute_result",
          "data": {
            "text/plain": [
              "status                          0\n",
              "age                           438\n",
              "sex                            73\n",
              "on_thyroxine                    0\n",
              "query_on_thyroxine              0\n",
              "on_antithyroid_medication       0\n",
              "thyroid_surgery                 0\n",
              "query_hypothyroid               0\n",
              "query_hyperthyroid              0\n",
              "pregnant                        0\n",
              "sick                            0\n",
              "tumor                           0\n",
              "lithium                         0\n",
              "goitre                          0\n",
              "TSH_measured                    0\n",
              "TSH                           455\n",
              "T3_measured                     0\n",
              "T3                            680\n",
              "TT4_measured                    0\n",
              "TT4                           240\n",
              "T4U_measured                    0\n",
              "T4U                           239\n",
              "FTI_measured                    0\n",
              "FTI                           238\n",
              "TBG_measured                    0\n",
              "TBG                          2835\n",
              "dtype: int64"
            ]
          },
          "metadata": {
            "tags": []
          },
          "execution_count": 72
        }
      ]
    },
    {
      "cell_type": "code",
      "metadata": {
        "id": "CggUZh_eJJMK",
        "colab_type": "code",
        "outputId": "b706e603-5742-47c5-8e28-9894bac33c6a",
        "colab": {
          "base_uri": "https://localhost:8080/",
          "height": 34
        }
      },
      "source": [
        "# for the sex columns, we fill the missing values with the mode\n",
        "# for the numerical columns we fill the missing values with the mean\n",
        "# we drop TBG_Measured and TBG columns as theY have a lot of missing values\n",
        "\n",
        "\n",
        "df.drop(['TBG', 'TBG_measured'], axis = 1, inplace = True)\n",
        "\n",
        "# dealing with missing values in the sex column\n",
        "df.sex.fillna(df.sex.mode()[0], inplace = True)\n",
        "\n",
        "# A for for loop is used for to avoid repetition\n",
        "#\n",
        "for column in num_cols:\n",
        "  df[column].fillna(df[column].mean(), inplace = True)\n",
        "  \n",
        "# Checking whether the above has worked. \n",
        "#\n",
        "df.isnull().sum().any()"
      ],
      "execution_count": 0,
      "outputs": [
        {
          "output_type": "execute_result",
          "data": {
            "text/plain": [
              "False"
            ]
          },
          "metadata": {
            "tags": []
          },
          "execution_count": 75
        }
      ]
    },
    {
      "cell_type": "code",
      "metadata": {
        "id": "rHyZsmje0IdL",
        "colab_type": "code",
        "outputId": "91048e0e-44c4-4b7b-8bde-bcc009ab3296",
        "colab": {
          "base_uri": "https://localhost:8080/",
          "height": 224
        }
      },
      "source": [
        "df.head()"
      ],
      "execution_count": 0,
      "outputs": [
        {
          "output_type": "execute_result",
          "data": {
            "text/html": [
              "<div>\n",
              "<style scoped>\n",
              "    .dataframe tbody tr th:only-of-type {\n",
              "        vertical-align: middle;\n",
              "    }\n",
              "\n",
              "    .dataframe tbody tr th {\n",
              "        vertical-align: top;\n",
              "    }\n",
              "\n",
              "    .dataframe thead th {\n",
              "        text-align: right;\n",
              "    }\n",
              "</style>\n",
              "<table border=\"1\" class=\"dataframe\">\n",
              "  <thead>\n",
              "    <tr style=\"text-align: right;\">\n",
              "      <th></th>\n",
              "      <th>status</th>\n",
              "      <th>age</th>\n",
              "      <th>sex</th>\n",
              "      <th>on_thyroxine</th>\n",
              "      <th>query_on_thyroxine</th>\n",
              "      <th>on_antithyroid_medication</th>\n",
              "      <th>thyroid_surgery</th>\n",
              "      <th>query_hypothyroid</th>\n",
              "      <th>query_hyperthyroid</th>\n",
              "      <th>pregnant</th>\n",
              "      <th>sick</th>\n",
              "      <th>tumor</th>\n",
              "      <th>lithium</th>\n",
              "      <th>goitre</th>\n",
              "      <th>TSH_measured</th>\n",
              "      <th>TSH</th>\n",
              "      <th>T3_measured</th>\n",
              "      <th>T3</th>\n",
              "      <th>TT4_measured</th>\n",
              "      <th>TT4</th>\n",
              "      <th>T4U_measured</th>\n",
              "      <th>T4U</th>\n",
              "      <th>FTI_measured</th>\n",
              "      <th>FTI</th>\n",
              "    </tr>\n",
              "  </thead>\n",
              "  <tbody>\n",
              "    <tr>\n",
              "      <th>0</th>\n",
              "      <td>hypothyroid</td>\n",
              "      <td>72.0</td>\n",
              "      <td>M</td>\n",
              "      <td>False</td>\n",
              "      <td>False</td>\n",
              "      <td>False</td>\n",
              "      <td>False</td>\n",
              "      <td>False</td>\n",
              "      <td>False</td>\n",
              "      <td>False</td>\n",
              "      <td>False</td>\n",
              "      <td>False</td>\n",
              "      <td>False</td>\n",
              "      <td>False</td>\n",
              "      <td>y</td>\n",
              "      <td>30.0</td>\n",
              "      <td>y</td>\n",
              "      <td>0.6</td>\n",
              "      <td>y</td>\n",
              "      <td>15.0</td>\n",
              "      <td>y</td>\n",
              "      <td>1.48</td>\n",
              "      <td>y</td>\n",
              "      <td>10.0</td>\n",
              "    </tr>\n",
              "    <tr>\n",
              "      <th>1</th>\n",
              "      <td>hypothyroid</td>\n",
              "      <td>15.0</td>\n",
              "      <td>F</td>\n",
              "      <td>True</td>\n",
              "      <td>False</td>\n",
              "      <td>False</td>\n",
              "      <td>False</td>\n",
              "      <td>False</td>\n",
              "      <td>False</td>\n",
              "      <td>False</td>\n",
              "      <td>False</td>\n",
              "      <td>False</td>\n",
              "      <td>False</td>\n",
              "      <td>False</td>\n",
              "      <td>y</td>\n",
              "      <td>145.0</td>\n",
              "      <td>y</td>\n",
              "      <td>1.7</td>\n",
              "      <td>y</td>\n",
              "      <td>19.0</td>\n",
              "      <td>y</td>\n",
              "      <td>1.13</td>\n",
              "      <td>y</td>\n",
              "      <td>17.0</td>\n",
              "    </tr>\n",
              "    <tr>\n",
              "      <th>2</th>\n",
              "      <td>hypothyroid</td>\n",
              "      <td>24.0</td>\n",
              "      <td>M</td>\n",
              "      <td>False</td>\n",
              "      <td>False</td>\n",
              "      <td>False</td>\n",
              "      <td>False</td>\n",
              "      <td>False</td>\n",
              "      <td>False</td>\n",
              "      <td>False</td>\n",
              "      <td>False</td>\n",
              "      <td>False</td>\n",
              "      <td>False</td>\n",
              "      <td>False</td>\n",
              "      <td>y</td>\n",
              "      <td>0.0</td>\n",
              "      <td>y</td>\n",
              "      <td>0.2</td>\n",
              "      <td>y</td>\n",
              "      <td>4.0</td>\n",
              "      <td>y</td>\n",
              "      <td>1.00</td>\n",
              "      <td>y</td>\n",
              "      <td>0.0</td>\n",
              "    </tr>\n",
              "    <tr>\n",
              "      <th>3</th>\n",
              "      <td>hypothyroid</td>\n",
              "      <td>24.0</td>\n",
              "      <td>F</td>\n",
              "      <td>False</td>\n",
              "      <td>False</td>\n",
              "      <td>False</td>\n",
              "      <td>False</td>\n",
              "      <td>False</td>\n",
              "      <td>False</td>\n",
              "      <td>False</td>\n",
              "      <td>False</td>\n",
              "      <td>False</td>\n",
              "      <td>False</td>\n",
              "      <td>False</td>\n",
              "      <td>y</td>\n",
              "      <td>430.0</td>\n",
              "      <td>y</td>\n",
              "      <td>0.4</td>\n",
              "      <td>y</td>\n",
              "      <td>6.0</td>\n",
              "      <td>y</td>\n",
              "      <td>1.04</td>\n",
              "      <td>y</td>\n",
              "      <td>6.0</td>\n",
              "    </tr>\n",
              "    <tr>\n",
              "      <th>4</th>\n",
              "      <td>hypothyroid</td>\n",
              "      <td>77.0</td>\n",
              "      <td>M</td>\n",
              "      <td>False</td>\n",
              "      <td>False</td>\n",
              "      <td>False</td>\n",
              "      <td>False</td>\n",
              "      <td>False</td>\n",
              "      <td>False</td>\n",
              "      <td>False</td>\n",
              "      <td>False</td>\n",
              "      <td>False</td>\n",
              "      <td>False</td>\n",
              "      <td>False</td>\n",
              "      <td>y</td>\n",
              "      <td>7.3</td>\n",
              "      <td>y</td>\n",
              "      <td>1.2</td>\n",
              "      <td>y</td>\n",
              "      <td>57.0</td>\n",
              "      <td>y</td>\n",
              "      <td>1.28</td>\n",
              "      <td>y</td>\n",
              "      <td>44.0</td>\n",
              "    </tr>\n",
              "  </tbody>\n",
              "</table>\n",
              "</div>"
            ],
            "text/plain": [
              "        status   age sex  on_thyroxine  ...  T4U_measured   T4U  FTI_measured   FTI\n",
              "0  hypothyroid  72.0   M         False  ...             y  1.48             y  10.0\n",
              "1  hypothyroid  15.0   F          True  ...             y  1.13             y  17.0\n",
              "2  hypothyroid  24.0   M         False  ...             y  1.00             y   0.0\n",
              "3  hypothyroid  24.0   F         False  ...             y  1.04             y   6.0\n",
              "4  hypothyroid  77.0   M         False  ...             y  1.28             y  44.0\n",
              "\n",
              "[5 rows x 24 columns]"
            ]
          },
          "metadata": {
            "tags": []
          },
          "execution_count": 76
        }
      ]
    },
    {
      "cell_type": "markdown",
      "metadata": {
        "id": "crOgthxG8_xD",
        "colab_type": "text"
      },
      "source": [
        "#### **OUTLIERS MANAGEMENT**"
      ]
    },
    {
      "cell_type": "code",
      "metadata": {
        "id": "AaPXBLe3dj5h",
        "colab_type": "code",
        "outputId": "26f4800a-9f5b-4c26-874c-dba4fd7264fa",
        "colab": {
          "base_uri": "https://localhost:8080/",
          "height": 296
        }
      },
      "source": [
        "sb.boxplot(x=df['age'])"
      ],
      "execution_count": 0,
      "outputs": [
        {
          "output_type": "execute_result",
          "data": {
            "text/plain": [
              "<matplotlib.axes._subplots.AxesSubplot at 0x7f3813514e80>"
            ]
          },
          "metadata": {
            "tags": []
          },
          "execution_count": 18
        },
        {
          "output_type": "display_data",
          "data": {
            "image/png": "[encoded data removed]",
            "text/plain": [
              "<Figure size 432x288 with 1 Axes>"
            ]
          },
          "metadata": {
            "tags": []
          }
        }
      ]
    },
    {
      "cell_type": "code",
      "metadata": {
        "id": "zsXqUB2BeqSa",
        "colab_type": "code",
        "outputId": "4b1321c8-8835-4e87-d50b-713536118ea8",
        "colab": {
          "base_uri": "https://localhost:8080/",
          "height": 296
        }
      },
      "source": [
        "sb.boxplot(x=df['FTI'])"
      ],
      "execution_count": 0,
      "outputs": [
        {
          "output_type": "execute_result",
          "data": {
            "text/plain": [
              "<matplotlib.axes._subplots.AxesSubplot at 0x7f38134ba400>"
            ]
          },
          "metadata": {
            "tags": []
          },
          "execution_count": 19
        },
        {
          "output_type": "display_data",
          "data": {
            "image/png": "[encoded data removed]",
            "text/plain": [
              "<Figure size 432x288 with 1 Axes>"
            ]
          },
          "metadata": {
            "tags": []
          }
        }
      ]
    },
    {
      "cell_type": "code",
      "metadata": {
        "id": "wQwrU6iIvYCV",
        "colab_type": "code",
        "outputId": "8520eef3-5c40-4f8f-afe6-b173d4b2e0cf",
        "colab": {
          "base_uri": "https://localhost:8080/",
          "height": 302
        }
      },
      "source": [
        "# using box plots to check for outliers\n",
        "# sb.boxplot(x=outliers.df['age'])\n",
        "\n",
        "sb.countplot('age',data = df)\n",
        "plt.xlabel(\"age\",fontsize=15)\n",
        "plt.ylabel(\"frequency\",fontsize=15)\n",
        "plt.title(\"Frequency of Age\",fontsize=16,color=\"white\")\n",
        "plt.show()"
      ],
      "execution_count": 0,
      "outputs": [
        {
          "output_type": "display_data",
          "data": {
            "image/png": "[encoded data removed]",
            "text/plain": [
              "<Figure size 432x288 with 1 Axes>"
            ]
          },
          "metadata": {
            "tags": []
          }
        }
      ]
    },
    {
      "cell_type": "markdown",
      "metadata": {
        "id": "H8aFu-Qh01jc",
        "colab_type": "text"
      },
      "source": [
        ""
      ]
    },
    {
      "cell_type": "code",
      "metadata": {
        "id": "3gKknlG68pOG",
        "colab_type": "code",
        "colab": {}
      },
      "source": [
        "# getting the data types of the columns to +9"
      ],
      "execution_count": 0,
      "outputs": []
    },
    {
      "cell_type": "markdown",
      "metadata": {
        "id": "0lO01qzTKn1O",
        "colab_type": "text"
      },
      "source": [
        "## 3.2 **EXPLORATORY DATA ANALYSIS**"
      ]
    },
    {
      "cell_type": "markdown",
      "metadata": {
        "id": "MYXlyv1oe7vu",
        "colab_type": "text"
      },
      "source": [
        "### **Univariate Analysis**"
      ]
    },
    {
      "cell_type": "markdown",
      "metadata": {
        "id": "iYFxvzA5fO-Z",
        "colab_type": "text"
      },
      "source": [
        "#### **STATUS**"
      ]
    },
    {
      "cell_type": "code",
      "metadata": {
        "id": "vG82en8me7I0",
        "colab_type": "code",
        "outputId": "f016ada2-2be3-42cf-9f07-853a4694942b",
        "colab": {
          "base_uri": "https://localhost:8080/",
          "height": 224
        }
      },
      "source": [
        "# to preview dataset\n",
        "# \n",
        "df.head()"
      ],
      "execution_count": 0,
      "outputs": [
        {
          "output_type": "execute_result",
          "data": {
            "text/html": [
              "<div>\n",
              "<style scoped>\n",
              "    .dataframe tbody tr th:only-of-type {\n",
              "        vertical-align: middle;\n",
              "    }\n",
              "\n",
              "    .dataframe tbody tr th {\n",
              "        vertical-align: top;\n",
              "    }\n",
              "\n",
              "    .dataframe thead th {\n",
              "        text-align: right;\n",
              "    }\n",
              "</style>\n",
              "<table border=\"1\" class=\"dataframe\">\n",
              "  <thead>\n",
              "    <tr style=\"text-align: right;\">\n",
              "      <th></th>\n",
              "      <th>status</th>\n",
              "      <th>age</th>\n",
              "      <th>sex</th>\n",
              "      <th>on_thyroxine</th>\n",
              "      <th>query_on_thyroxine</th>\n",
              "      <th>on_antithyroid_medication</th>\n",
              "      <th>thyroid_surgery</th>\n",
              "      <th>query_hypothyroid</th>\n",
              "      <th>query_hyperthyroid</th>\n",
              "      <th>pregnant</th>\n",
              "      <th>sick</th>\n",
              "      <th>tumor</th>\n",
              "      <th>lithium</th>\n",
              "      <th>goitre</th>\n",
              "      <th>TSH_measured</th>\n",
              "      <th>TSH</th>\n",
              "      <th>T3_measured</th>\n",
              "      <th>T3</th>\n",
              "      <th>TT4_measured</th>\n",
              "      <th>TT4</th>\n",
              "      <th>T4U_measured</th>\n",
              "      <th>T4U</th>\n",
              "      <th>FTI_measured</th>\n",
              "      <th>FTI</th>\n",
              "      <th>TBG_measured</th>\n",
              "      <th>TBG</th>\n",
              "    </tr>\n",
              "  </thead>\n",
              "  <tbody>\n",
              "    <tr>\n",
              "      <th>0</th>\n",
              "      <td>hypothyroid</td>\n",
              "      <td>72.0</td>\n",
              "      <td>M</td>\n",
              "      <td>f</td>\n",
              "      <td>f</td>\n",
              "      <td>f</td>\n",
              "      <td>f</td>\n",
              "      <td>f</td>\n",
              "      <td>f</td>\n",
              "      <td>f</td>\n",
              "      <td>f</td>\n",
              "      <td>f</td>\n",
              "      <td>f</td>\n",
              "      <td>f</td>\n",
              "      <td>y</td>\n",
              "      <td>30.0</td>\n",
              "      <td>y</td>\n",
              "      <td>0.6</td>\n",
              "      <td>y</td>\n",
              "      <td>15.0</td>\n",
              "      <td>y</td>\n",
              "      <td>1.48</td>\n",
              "      <td>y</td>\n",
              "      <td>10.0</td>\n",
              "      <td>n</td>\n",
              "      <td>NaN</td>\n",
              "    </tr>\n",
              "    <tr>\n",
              "      <th>1</th>\n",
              "      <td>hypothyroid</td>\n",
              "      <td>15.0</td>\n",
              "      <td>F</td>\n",
              "      <td>t</td>\n",
              "      <td>f</td>\n",
              "      <td>f</td>\n",
              "      <td>f</td>\n",
              "      <td>f</td>\n",
              "      <td>f</td>\n",
              "      <td>f</td>\n",
              "      <td>f</td>\n",
              "      <td>f</td>\n",
              "      <td>f</td>\n",
              "      <td>f</td>\n",
              "      <td>y</td>\n",
              "      <td>145.0</td>\n",
              "      <td>y</td>\n",
              "      <td>1.7</td>\n",
              "      <td>y</td>\n",
              "      <td>19.0</td>\n",
              "      <td>y</td>\n",
              "      <td>1.13</td>\n",
              "      <td>y</td>\n",
              "      <td>17.0</td>\n",
              "      <td>n</td>\n",
              "      <td>NaN</td>\n",
              "    </tr>\n",
              "    <tr>\n",
              "      <th>2</th>\n",
              "      <td>hypothyroid</td>\n",
              "      <td>24.0</td>\n",
              "      <td>M</td>\n",
              "      <td>f</td>\n",
              "      <td>f</td>\n",
              "      <td>f</td>\n",
              "      <td>f</td>\n",
              "      <td>f</td>\n",
              "      <td>f</td>\n",
              "      <td>f</td>\n",
              "      <td>f</td>\n",
              "      <td>f</td>\n",
              "      <td>f</td>\n",
              "      <td>f</td>\n",
              "      <td>y</td>\n",
              "      <td>0.0</td>\n",
              "      <td>y</td>\n",
              "      <td>0.2</td>\n",
              "      <td>y</td>\n",
              "      <td>4.0</td>\n",
              "      <td>y</td>\n",
              "      <td>1.00</td>\n",
              "      <td>y</td>\n",
              "      <td>0.0</td>\n",
              "      <td>n</td>\n",
              "      <td>NaN</td>\n",
              "    </tr>\n",
              "    <tr>\n",
              "      <th>3</th>\n",
              "      <td>hypothyroid</td>\n",
              "      <td>24.0</td>\n",
              "      <td>F</td>\n",
              "      <td>f</td>\n",
              "      <td>f</td>\n",
              "      <td>f</td>\n",
              "      <td>f</td>\n",
              "      <td>f</td>\n",
              "      <td>f</td>\n",
              "      <td>f</td>\n",
              "      <td>f</td>\n",
              "      <td>f</td>\n",
              "      <td>f</td>\n",
              "      <td>f</td>\n",
              "      <td>y</td>\n",
              "      <td>430.0</td>\n",
              "      <td>y</td>\n",
              "      <td>0.4</td>\n",
              "      <td>y</td>\n",
              "      <td>6.0</td>\n",
              "      <td>y</td>\n",
              "      <td>1.04</td>\n",
              "      <td>y</td>\n",
              "      <td>6.0</td>\n",
              "      <td>n</td>\n",
              "      <td>NaN</td>\n",
              "    </tr>\n",
              "    <tr>\n",
              "      <th>4</th>\n",
              "      <td>hypothyroid</td>\n",
              "      <td>77.0</td>\n",
              "      <td>M</td>\n",
              "      <td>f</td>\n",
              "      <td>f</td>\n",
              "      <td>f</td>\n",
              "      <td>f</td>\n",
              "      <td>f</td>\n",
              "      <td>f</td>\n",
              "      <td>f</td>\n",
              "      <td>f</td>\n",
              "      <td>f</td>\n",
              "      <td>f</td>\n",
              "      <td>f</td>\n",
              "      <td>y</td>\n",
              "      <td>7.3</td>\n",
              "      <td>y</td>\n",
              "      <td>1.2</td>\n",
              "      <td>y</td>\n",
              "      <td>57.0</td>\n",
              "      <td>y</td>\n",
              "      <td>1.28</td>\n",
              "      <td>y</td>\n",
              "      <td>44.0</td>\n",
              "      <td>n</td>\n",
              "      <td>NaN</td>\n",
              "    </tr>\n",
              "  </tbody>\n",
              "</table>\n",
              "</div>"
            ],
            "text/plain": [
              "        status   age sex on_thyroxine  ... FTI_measured   FTI TBG_measured  TBG\n",
              "0  hypothyroid  72.0   M            f  ...            y  10.0            n  NaN\n",
              "1  hypothyroid  15.0   F            t  ...            y  17.0            n  NaN\n",
              "2  hypothyroid  24.0   M            f  ...            y   0.0            n  NaN\n",
              "3  hypothyroid  24.0   F            f  ...            y   6.0            n  NaN\n",
              "4  hypothyroid  77.0   M            f  ...            y  44.0            n  NaN\n",
              "\n",
              "[5 rows x 26 columns]"
            ]
          },
          "metadata": {
            "tags": []
          },
          "execution_count": 22
        }
      ]
    },
    {
      "cell_type": "markdown",
      "metadata": {
        "id": "cpS_xeu4hyCg",
        "colab_type": "text"
      },
      "source": [
        "#### **AGE**"
      ]
    },
    {
      "cell_type": "code",
      "metadata": {
        "id": "4DyMn5TIhe5Z",
        "colab_type": "code",
        "outputId": "72eb52ee-3e5b-4a30-b879-6a098d9e1a02",
        "colab": {
          "base_uri": "https://localhost:8080/",
          "height": 153
        }
      },
      "source": [
        "df.age.nunique()\n",
        "# There are 92 unique values \n",
        "df.age.unique()"
      ],
      "execution_count": 0,
      "outputs": [
        {
          "output_type": "execute_result",
          "data": {
            "text/plain": [
              "array([72., 15., 24., 77., 85., 64., 20., 42., 69., 75., 53., 59., 68.,\n",
              "       50., 78., 65., 28., 43., 40., 84., nan, 83., 63., 73., 36., 27.,\n",
              "       48., 71., 60., 34., 79., 62., 74., 32., 41., 70., 29.,  5., 58.,\n",
              "       35., 51., 22., 16., 44., 39., 47., 18., 17., 88., 56., 30., 45.,\n",
              "       66., 52., 54., 80., 33., 38., 92., 67., 46., 13., 89., 61., 49.,\n",
              "       26., 57., 31., 90., 81., 25., 37., 76., 87., 23., 55., 86., 98.,\n",
              "       21., 97.,  1.,  6., 14., 82., 11., 19.,  9., 12., 10.,  8.,  7.,\n",
              "        4., 93.])"
            ]
          },
          "metadata": {
            "tags": []
          },
          "execution_count": 25
        }
      ]
    },
    {
      "cell_type": "code",
      "metadata": {
        "id": "ebKjcmjRr_uL",
        "colab_type": "code",
        "outputId": "da7b4e31-5361-424c-b1b5-49c2a4e346dc",
        "colab": {
          "base_uri": "https://localhost:8080/",
          "height": 170
        }
      },
      "source": [
        "# description of the variable\n",
        "# \n",
        "df['age'].describe()"
      ],
      "execution_count": 0,
      "outputs": [
        {
          "output_type": "execute_result",
          "data": {
            "text/plain": [
              "count    2717.000000\n",
              "mean       51.154214\n",
              "std        19.294405\n",
              "min         1.000000\n",
              "25%        35.000000\n",
              "50%        54.000000\n",
              "75%        67.000000\n",
              "max        98.000000\n",
              "Name: age, dtype: float64"
            ]
          },
          "metadata": {
            "tags": []
          },
          "execution_count": 26
        }
      ]
    },
    {
      "cell_type": "code",
      "metadata": {
        "id": "89LaueGEirJ7",
        "colab_type": "code",
        "outputId": "4f9cd354-b0ae-4fe1-e7be-87c34c619605",
        "colab": {
          "base_uri": "https://localhost:8080/",
          "height": 51
        }
      },
      "source": [
        "# maximum  and minimum  age \n",
        "# \n",
        "print(\"The maximum value of the Age variable is: \", df['age'].max())\n",
        "print(\"The minimum value of the Age variable is:\", df['age'].min())"
      ],
      "execution_count": 0,
      "outputs": [
        {
          "output_type": "stream",
          "text": [
            "The maximum value of the Age variable is:  98.0\n",
            "The minimum value of the Age variable is: 1.0\n"
          ],
          "name": "stdout"
        }
      ]
    },
    {
      "cell_type": "code",
      "metadata": {
        "id": "O0sS4KbkkBK-",
        "colab_type": "code",
        "outputId": "56cb514c-4748-4291-d749-67fd77c50c13",
        "colab": {
          "base_uri": "https://localhost:8080/",
          "height": 312
        }
      },
      "source": [
        "# visualizing the distribution of age \n",
        "\n",
        "# matplotlib histogram\n",
        "plt.hist(df['age'], color = 'blue', edgecolor = 'black',\n",
        "         bins = int(180/5))\n",
        "\n",
        "# seaborn histogram\n",
        "sb.distplot(df['age'], hist=True, kde=False, \n",
        "             bins=int(180/5), color = 'blue',\n",
        "             hist_kws={'edgecolor':'black'})\n",
        "# Add labels\n",
        "plt.title('Histogram of Age')\n",
        "plt.xlabel('Age')\n",
        "plt.ylabel('Distribution')\n",
        "plt.show\n",
        "\n",
        "# age is almost normally distributed"
      ],
      "execution_count": 0,
      "outputs": [
        {
          "output_type": "execute_result",
          "data": {
            "text/plain": [
              "<function matplotlib.pyplot.show>"
            ]
          },
          "metadata": {
            "tags": []
          },
          "execution_count": 28
        },
        {
          "output_type": "display_data",
          "data": {
            "image/png": "[encoded data removed]",
            "text/plain": [
              "<Figure size 432x288 with 1 Axes>"
            ]
          },
          "metadata": {
            "tags": []
          }
        }
      ]
    },
    {
      "cell_type": "code",
      "metadata": {
        "id": "V8lJozlQR73u",
        "colab_type": "code",
        "outputId": "11b1d07f-a197-4589-f5d8-536234acf634",
        "colab": {
          "base_uri": "https://localhost:8080/",
          "height": 596
        }
      },
      "source": [
        "# checking the correlation of the variables\n",
        "corr = df[['status', 'age', 'on_thyroxine', 'query_on_thyroxine',\n",
        "       'on_antithyroid_medication', 'thyroid_surgery', 'query_hypothyroid',\n",
        "       'query_hyperthyroid', 'pregnant', 'sick', 'tumor', 'lithium', 'goitre',\n",
        "       'TSH', 'T3', 'TT4', 'T4U', 'FTI']].corr()\n",
        "corr "
      ],
      "execution_count": 0,
      "outputs": [
        {
          "output_type": "execute_result",
          "data": {
            "text/html": [
              "<div>\n",
              "<style scoped>\n",
              "    .dataframe tbody tr th:only-of-type {\n",
              "        vertical-align: middle;\n",
              "    }\n",
              "\n",
              "    .dataframe tbody tr th {\n",
              "        vertical-align: top;\n",
              "    }\n",
              "\n",
              "    .dataframe thead th {\n",
              "        text-align: right;\n",
              "    }\n",
              "</style>\n",
              "<table border=\"1\" class=\"dataframe\">\n",
              "  <thead>\n",
              "    <tr style=\"text-align: right;\">\n",
              "      <th></th>\n",
              "      <th>age</th>\n",
              "      <th>on_thyroxine</th>\n",
              "      <th>query_on_thyroxine</th>\n",
              "      <th>on_antithyroid_medication</th>\n",
              "      <th>thyroid_surgery</th>\n",
              "      <th>query_hypothyroid</th>\n",
              "      <th>query_hyperthyroid</th>\n",
              "      <th>pregnant</th>\n",
              "      <th>sick</th>\n",
              "      <th>tumor</th>\n",
              "      <th>lithium</th>\n",
              "      <th>goitre</th>\n",
              "      <th>TSH</th>\n",
              "      <th>T3</th>\n",
              "      <th>TT4</th>\n",
              "      <th>T4U</th>\n",
              "      <th>FTI</th>\n",
              "    </tr>\n",
              "  </thead>\n",
              "  <tbody>\n",
              "    <tr>\n",
              "      <th>age</th>\n",
              "      <td>1.000000</td>\n",
              "      <td>0.000451</td>\n",
              "      <td>-0.019781</td>\n",
              "      <td>-0.059541</td>\n",
              "      <td>-0.012432</td>\n",
              "      <td>0.043156</td>\n",
              "      <td>-0.087005</td>\n",
              "      <td>-0.157715</td>\n",
              "      <td>0.063078</td>\n",
              "      <td>-0.063738</td>\n",
              "      <td>-0.021559</td>\n",
              "      <td>-0.036387</td>\n",
              "      <td>-0.007352</td>\n",
              "      <td>-0.265743</td>\n",
              "      <td>-0.086317</td>\n",
              "      <td>-0.188786</td>\n",
              "      <td>0.017737</td>\n",
              "    </tr>\n",
              "    <tr>\n",
              "      <th>on_thyroxine</th>\n",
              "      <td>0.000451</td>\n",
              "      <td>1.000000</td>\n",
              "      <td>-0.013574</td>\n",
              "      <td>-0.024418</td>\n",
              "      <td>0.031370</td>\n",
              "      <td>0.066144</td>\n",
              "      <td>-0.086734</td>\n",
              "      <td>0.001219</td>\n",
              "      <td>-0.063480</td>\n",
              "      <td>-0.022658</td>\n",
              "      <td>-0.010467</td>\n",
              "      <td>-0.025874</td>\n",
              "      <td>-0.005257</td>\n",
              "      <td>0.023279</td>\n",
              "      <td>0.217276</td>\n",
              "      <td>0.071209</td>\n",
              "      <td>0.113350</td>\n",
              "    </tr>\n",
              "    <tr>\n",
              "      <th>query_on_thyroxine</th>\n",
              "      <td>-0.019781</td>\n",
              "      <td>-0.013574</td>\n",
              "      <td>1.000000</td>\n",
              "      <td>-0.015823</td>\n",
              "      <td>0.015876</td>\n",
              "      <td>-0.020206</td>\n",
              "      <td>-0.038674</td>\n",
              "      <td>-0.019129</td>\n",
              "      <td>-0.024267</td>\n",
              "      <td>0.049524</td>\n",
              "      <td>-0.003430</td>\n",
              "      <td>0.004078</td>\n",
              "      <td>-0.014676</td>\n",
              "      <td>-0.015133</td>\n",
              "      <td>-0.020294</td>\n",
              "      <td>-0.034741</td>\n",
              "      <td>-0.004659</td>\n",
              "    </tr>\n",
              "    <tr>\n",
              "      <th>on_antithyroid_medication</th>\n",
              "      <td>-0.059541</td>\n",
              "      <td>-0.024418</td>\n",
              "      <td>-0.015823</td>\n",
              "      <td>1.000000</td>\n",
              "      <td>-0.006256</td>\n",
              "      <td>-0.033724</td>\n",
              "      <td>0.124440</td>\n",
              "      <td>0.003412</td>\n",
              "      <td>-0.021160</td>\n",
              "      <td>-0.013461</td>\n",
              "      <td>-0.002991</td>\n",
              "      <td>-0.021048</td>\n",
              "      <td>-0.001045</td>\n",
              "      <td>0.065626</td>\n",
              "      <td>-0.002745</td>\n",
              "      <td>0.026479</td>\n",
              "      <td>-0.017797</td>\n",
              "    </tr>\n",
              "    <tr>\n",
              "      <th>thyroid_surgery</th>\n",
              "      <td>-0.012432</td>\n",
              "      <td>0.031370</td>\n",
              "      <td>0.015876</td>\n",
              "      <td>-0.006256</td>\n",
              "      <td>1.000000</td>\n",
              "      <td>0.001065</td>\n",
              "      <td>0.021470</td>\n",
              "      <td>-0.013427</td>\n",
              "      <td>-0.033475</td>\n",
              "      <td>-0.021294</td>\n",
              "      <td>-0.004732</td>\n",
              "      <td>-0.022904</td>\n",
              "      <td>0.012167</td>\n",
              "      <td>-0.007012</td>\n",
              "      <td>-0.016127</td>\n",
              "      <td>0.026078</td>\n",
              "      <td>-0.026105</td>\n",
              "    </tr>\n",
              "    <tr>\n",
              "      <th>query_hypothyroid</th>\n",
              "      <td>0.043156</td>\n",
              "      <td>0.066144</td>\n",
              "      <td>-0.020206</td>\n",
              "      <td>-0.033724</td>\n",
              "      <td>0.001065</td>\n",
              "      <td>1.000000</td>\n",
              "      <td>-0.017942</td>\n",
              "      <td>-0.014439</td>\n",
              "      <td>-0.051720</td>\n",
              "      <td>-0.032900</td>\n",
              "      <td>0.040694</td>\n",
              "      <td>-0.023296</td>\n",
              "      <td>0.066911</td>\n",
              "      <td>-0.038984</td>\n",
              "      <td>-0.010955</td>\n",
              "      <td>0.044393</td>\n",
              "      <td>-0.046271</td>\n",
              "    </tr>\n",
              "    <tr>\n",
              "      <th>query_hyperthyroid</th>\n",
              "      <td>-0.087005</td>\n",
              "      <td>-0.086734</td>\n",
              "      <td>-0.038674</td>\n",
              "      <td>0.124440</td>\n",
              "      <td>0.021470</td>\n",
              "      <td>-0.017942</td>\n",
              "      <td>1.000000</td>\n",
              "      <td>0.073329</td>\n",
              "      <td>-0.051720</td>\n",
              "      <td>-0.032900</td>\n",
              "      <td>-0.007311</td>\n",
              "      <td>0.040038</td>\n",
              "      <td>-0.022910</td>\n",
              "      <td>0.169325</td>\n",
              "      <td>0.131093</td>\n",
              "      <td>0.070024</td>\n",
              "      <td>0.063286</td>\n",
              "    </tr>\n",
              "    <tr>\n",
              "      <th>pregnant</th>\n",
              "      <td>-0.157715</td>\n",
              "      <td>0.001219</td>\n",
              "      <td>-0.019129</td>\n",
              "      <td>0.003412</td>\n",
              "      <td>-0.013427</td>\n",
              "      <td>-0.014439</td>\n",
              "      <td>0.073329</td>\n",
              "      <td>1.000000</td>\n",
              "      <td>-0.025581</td>\n",
              "      <td>0.004308</td>\n",
              "      <td>-0.003616</td>\n",
              "      <td>0.081827</td>\n",
              "      <td>-0.012415</td>\n",
              "      <td>0.201960</td>\n",
              "      <td>0.171237</td>\n",
              "      <td>0.323329</td>\n",
              "      <td>-0.005415</td>\n",
              "    </tr>\n",
              "    <tr>\n",
              "      <th>sick</th>\n",
              "      <td>0.063078</td>\n",
              "      <td>-0.063480</td>\n",
              "      <td>-0.024267</td>\n",
              "      <td>-0.021160</td>\n",
              "      <td>-0.033475</td>\n",
              "      <td>-0.051720</td>\n",
              "      <td>-0.051720</td>\n",
              "      <td>-0.025581</td>\n",
              "      <td>1.000000</td>\n",
              "      <td>-0.020644</td>\n",
              "      <td>-0.004588</td>\n",
              "      <td>-0.032279</td>\n",
              "      <td>-0.006218</td>\n",
              "      <td>-0.103268</td>\n",
              "      <td>-0.042154</td>\n",
              "      <td>-0.047710</td>\n",
              "      <td>-0.023498</td>\n",
              "    </tr>\n",
              "    <tr>\n",
              "      <th>tumor</th>\n",
              "      <td>-0.063738</td>\n",
              "      <td>-0.022658</td>\n",
              "      <td>0.049524</td>\n",
              "      <td>-0.013461</td>\n",
              "      <td>-0.021294</td>\n",
              "      <td>-0.032900</td>\n",
              "      <td>-0.032900</td>\n",
              "      <td>0.004308</td>\n",
              "      <td>-0.020644</td>\n",
              "      <td>1.000000</td>\n",
              "      <td>-0.002918</td>\n",
              "      <td>-0.020534</td>\n",
              "      <td>-0.019244</td>\n",
              "      <td>0.026472</td>\n",
              "      <td>-0.014707</td>\n",
              "      <td>0.024743</td>\n",
              "      <td>-0.026980</td>\n",
              "    </tr>\n",
              "    <tr>\n",
              "      <th>lithium</th>\n",
              "      <td>-0.021559</td>\n",
              "      <td>-0.010467</td>\n",
              "      <td>-0.003430</td>\n",
              "      <td>-0.002991</td>\n",
              "      <td>-0.004732</td>\n",
              "      <td>0.040694</td>\n",
              "      <td>-0.007311</td>\n",
              "      <td>-0.003616</td>\n",
              "      <td>-0.004588</td>\n",
              "      <td>-0.002918</td>\n",
              "      <td>1.000000</td>\n",
              "      <td>-0.004563</td>\n",
              "      <td>-0.001446</td>\n",
              "      <td>0.015207</td>\n",
              "      <td>-0.002204</td>\n",
              "      <td>0.039042</td>\n",
              "      <td>-0.017186</td>\n",
              "    </tr>\n",
              "    <tr>\n",
              "      <th>goitre</th>\n",
              "      <td>-0.036387</td>\n",
              "      <td>-0.025874</td>\n",
              "      <td>0.004078</td>\n",
              "      <td>-0.021048</td>\n",
              "      <td>-0.022904</td>\n",
              "      <td>-0.023296</td>\n",
              "      <td>0.040038</td>\n",
              "      <td>0.081827</td>\n",
              "      <td>-0.032279</td>\n",
              "      <td>-0.020534</td>\n",
              "      <td>-0.004563</td>\n",
              "      <td>1.000000</td>\n",
              "      <td>-0.018559</td>\n",
              "      <td>0.082847</td>\n",
              "      <td>0.043928</td>\n",
              "      <td>0.069233</td>\n",
              "      <td>0.001141</td>\n",
              "    </tr>\n",
              "    <tr>\n",
              "      <th>TSH</th>\n",
              "      <td>-0.007352</td>\n",
              "      <td>-0.005257</td>\n",
              "      <td>-0.014676</td>\n",
              "      <td>-0.001045</td>\n",
              "      <td>0.012167</td>\n",
              "      <td>0.066911</td>\n",
              "      <td>-0.022910</td>\n",
              "      <td>-0.012415</td>\n",
              "      <td>-0.006218</td>\n",
              "      <td>-0.019244</td>\n",
              "      <td>-0.001446</td>\n",
              "      <td>-0.018559</td>\n",
              "      <td>1.000000</td>\n",
              "      <td>-0.169724</td>\n",
              "      <td>-0.309057</td>\n",
              "      <td>0.072508</td>\n",
              "      <td>-0.240105</td>\n",
              "    </tr>\n",
              "    <tr>\n",
              "      <th>T3</th>\n",
              "      <td>-0.265743</td>\n",
              "      <td>0.023279</td>\n",
              "      <td>-0.015133</td>\n",
              "      <td>0.065626</td>\n",
              "      <td>-0.007012</td>\n",
              "      <td>-0.038984</td>\n",
              "      <td>0.169325</td>\n",
              "      <td>0.201960</td>\n",
              "      <td>-0.103268</td>\n",
              "      <td>0.026472</td>\n",
              "      <td>0.015207</td>\n",
              "      <td>0.082847</td>\n",
              "      <td>-0.169724</td>\n",
              "      <td>1.000000</td>\n",
              "      <td>0.533845</td>\n",
              "      <td>0.386450</td>\n",
              "      <td>0.281517</td>\n",
              "    </tr>\n",
              "    <tr>\n",
              "      <th>TT4</th>\n",
              "      <td>-0.086317</td>\n",
              "      <td>0.217276</td>\n",
              "      <td>-0.020294</td>\n",
              "      <td>-0.002745</td>\n",
              "      <td>-0.016127</td>\n",
              "      <td>-0.010955</td>\n",
              "      <td>0.131093</td>\n",
              "      <td>0.171237</td>\n",
              "      <td>-0.042154</td>\n",
              "      <td>-0.014707</td>\n",
              "      <td>-0.002204</td>\n",
              "      <td>0.043928</td>\n",
              "      <td>-0.309057</td>\n",
              "      <td>0.533845</td>\n",
              "      <td>1.000000</td>\n",
              "      <td>0.320415</td>\n",
              "      <td>0.677345</td>\n",
              "    </tr>\n",
              "    <tr>\n",
              "      <th>T4U</th>\n",
              "      <td>-0.188786</td>\n",
              "      <td>0.071209</td>\n",
              "      <td>-0.034741</td>\n",
              "      <td>0.026479</td>\n",
              "      <td>0.026078</td>\n",
              "      <td>0.044393</td>\n",
              "      <td>0.070024</td>\n",
              "      <td>0.323329</td>\n",
              "      <td>-0.047710</td>\n",
              "      <td>0.024743</td>\n",
              "      <td>0.039042</td>\n",
              "      <td>0.069233</td>\n",
              "      <td>0.072508</td>\n",
              "      <td>0.386450</td>\n",
              "      <td>0.320415</td>\n",
              "      <td>1.000000</td>\n",
              "      <td>-0.294437</td>\n",
              "    </tr>\n",
              "    <tr>\n",
              "      <th>FTI</th>\n",
              "      <td>0.017737</td>\n",
              "      <td>0.113350</td>\n",
              "      <td>-0.004659</td>\n",
              "      <td>-0.017797</td>\n",
              "      <td>-0.026105</td>\n",
              "      <td>-0.046271</td>\n",
              "      <td>0.063286</td>\n",
              "      <td>-0.005415</td>\n",
              "      <td>-0.023498</td>\n",
              "      <td>-0.026980</td>\n",
              "      <td>-0.017186</td>\n",
              "      <td>0.001141</td>\n",
              "      <td>-0.240105</td>\n",
              "      <td>0.281517</td>\n",
              "      <td>0.677345</td>\n",
              "      <td>-0.294437</td>\n",
              "      <td>1.000000</td>\n",
              "    </tr>\n",
              "  </tbody>\n",
              "</table>\n",
              "</div>"
            ],
            "text/plain": [
              "                                age  on_thyroxine  ...       T4U       FTI\n",
              "age                        1.000000      0.000451  ... -0.188786  0.017737\n",
              "on_thyroxine               0.000451      1.000000  ...  0.071209  0.113350\n",
              "query_on_thyroxine        -0.019781     -0.013574  ... -0.034741 -0.004659\n",
              "on_antithyroid_medication -0.059541     -0.024418  ...  0.026479 -0.017797\n",
              "thyroid_surgery           -0.012432      0.031370  ...  0.026078 -0.026105\n",
              "query_hypothyroid          0.043156      0.066144  ...  0.044393 -0.046271\n",
              "query_hyperthyroid        -0.087005     -0.086734  ...  0.070024  0.063286\n",
              "pregnant                  -0.157715      0.001219  ...  0.323329 -0.005415\n",
              "sick                       0.063078     -0.063480  ... -0.047710 -0.023498\n",
              "tumor                     -0.063738     -0.022658  ...  0.024743 -0.026980\n",
              "lithium                   -0.021559     -0.010467  ...  0.039042 -0.017186\n",
              "goitre                    -0.036387     -0.025874  ...  0.069233  0.001141\n",
              "TSH                       -0.007352     -0.005257  ...  0.072508 -0.240105\n",
              "T3                        -0.265743      0.023279  ...  0.386450  0.281517\n",
              "TT4                       -0.086317      0.217276  ...  0.320415  0.677345\n",
              "T4U                       -0.188786      0.071209  ...  1.000000 -0.294437\n",
              "FTI                        0.017737      0.113350  ... -0.294437  1.000000\n",
              "\n",
              "[17 rows x 17 columns]"
            ]
          },
          "metadata": {
            "tags": []
          },
          "execution_count": 80
        }
      ]
    },
    {
      "cell_type": "markdown",
      "metadata": {
        "id": "uiyB0gOOtcYP",
        "colab_type": "text"
      },
      "source": [
        "#### **SEX**"
      ]
    },
    {
      "cell_type": "code",
      "metadata": {
        "id": "24suFjjltiBB",
        "colab_type": "code",
        "outputId": "5e0a61cb-9fe6-4da5-be6d-46e4586ba22e",
        "colab": {
          "base_uri": "https://localhost:8080/",
          "height": 34
        }
      },
      "source": [
        "df.sex.nunique()\n",
        "# there are 2 unique values "
      ],
      "execution_count": 0,
      "outputs": [
        {
          "output_type": "execute_result",
          "data": {
            "text/plain": [
              "2"
            ]
          },
          "metadata": {
            "tags": []
          },
          "execution_count": 77
        }
      ]
    },
    {
      "cell_type": "code",
      "metadata": {
        "id": "4wY66huoypEE",
        "colab_type": "code",
        "outputId": "7d9871d4-52e5-4462-d477-f4dbfd66d130",
        "colab": {
          "base_uri": "https://localhost:8080/",
          "height": 224
        }
      },
      "source": [
        "df.head()"
      ],
      "execution_count": 0,
      "outputs": [
        {
          "output_type": "execute_result",
          "data": {
            "text/html": [
              "<div>\n",
              "<style scoped>\n",
              "    .dataframe tbody tr th:only-of-type {\n",
              "        vertical-align: middle;\n",
              "    }\n",
              "\n",
              "    .dataframe tbody tr th {\n",
              "        vertical-align: top;\n",
              "    }\n",
              "\n",
              "    .dataframe thead th {\n",
              "        text-align: right;\n",
              "    }\n",
              "</style>\n",
              "<table border=\"1\" class=\"dataframe\">\n",
              "  <thead>\n",
              "    <tr style=\"text-align: right;\">\n",
              "      <th></th>\n",
              "      <th>status</th>\n",
              "      <th>age</th>\n",
              "      <th>sex</th>\n",
              "      <th>on_thyroxine</th>\n",
              "      <th>query_on_thyroxine</th>\n",
              "      <th>on_antithyroid_medication</th>\n",
              "      <th>thyroid_surgery</th>\n",
              "      <th>query_hypothyroid</th>\n",
              "      <th>query_hyperthyroid</th>\n",
              "      <th>pregnant</th>\n",
              "      <th>sick</th>\n",
              "      <th>tumor</th>\n",
              "      <th>lithium</th>\n",
              "      <th>goitre</th>\n",
              "      <th>TSH_measured</th>\n",
              "      <th>TSH</th>\n",
              "      <th>T3_measured</th>\n",
              "      <th>T3</th>\n",
              "      <th>TT4_measured</th>\n",
              "      <th>TT4</th>\n",
              "      <th>T4U_measured</th>\n",
              "      <th>T4U</th>\n",
              "      <th>FTI_measured</th>\n",
              "      <th>FTI</th>\n",
              "    </tr>\n",
              "  </thead>\n",
              "  <tbody>\n",
              "    <tr>\n",
              "      <th>0</th>\n",
              "      <td>hypothyroid</td>\n",
              "      <td>72.0</td>\n",
              "      <td>M</td>\n",
              "      <td>False</td>\n",
              "      <td>False</td>\n",
              "      <td>False</td>\n",
              "      <td>False</td>\n",
              "      <td>False</td>\n",
              "      <td>False</td>\n",
              "      <td>False</td>\n",
              "      <td>False</td>\n",
              "      <td>False</td>\n",
              "      <td>False</td>\n",
              "      <td>False</td>\n",
              "      <td>y</td>\n",
              "      <td>30.0</td>\n",
              "      <td>y</td>\n",
              "      <td>0.6</td>\n",
              "      <td>y</td>\n",
              "      <td>15.0</td>\n",
              "      <td>y</td>\n",
              "      <td>1.48</td>\n",
              "      <td>y</td>\n",
              "      <td>10.0</td>\n",
              "    </tr>\n",
              "    <tr>\n",
              "      <th>1</th>\n",
              "      <td>hypothyroid</td>\n",
              "      <td>15.0</td>\n",
              "      <td>F</td>\n",
              "      <td>True</td>\n",
              "      <td>False</td>\n",
              "      <td>False</td>\n",
              "      <td>False</td>\n",
              "      <td>False</td>\n",
              "      <td>False</td>\n",
              "      <td>False</td>\n",
              "      <td>False</td>\n",
              "      <td>False</td>\n",
              "      <td>False</td>\n",
              "      <td>False</td>\n",
              "      <td>y</td>\n",
              "      <td>145.0</td>\n",
              "      <td>y</td>\n",
              "      <td>1.7</td>\n",
              "      <td>y</td>\n",
              "      <td>19.0</td>\n",
              "      <td>y</td>\n",
              "      <td>1.13</td>\n",
              "      <td>y</td>\n",
              "      <td>17.0</td>\n",
              "    </tr>\n",
              "    <tr>\n",
              "      <th>2</th>\n",
              "      <td>hypothyroid</td>\n",
              "      <td>24.0</td>\n",
              "      <td>M</td>\n",
              "      <td>False</td>\n",
              "      <td>False</td>\n",
              "      <td>False</td>\n",
              "      <td>False</td>\n",
              "      <td>False</td>\n",
              "      <td>False</td>\n",
              "      <td>False</td>\n",
              "      <td>False</td>\n",
              "      <td>False</td>\n",
              "      <td>False</td>\n",
              "      <td>False</td>\n",
              "      <td>y</td>\n",
              "      <td>0.0</td>\n",
              "      <td>y</td>\n",
              "      <td>0.2</td>\n",
              "      <td>y</td>\n",
              "      <td>4.0</td>\n",
              "      <td>y</td>\n",
              "      <td>1.00</td>\n",
              "      <td>y</td>\n",
              "      <td>0.0</td>\n",
              "    </tr>\n",
              "    <tr>\n",
              "      <th>3</th>\n",
              "      <td>hypothyroid</td>\n",
              "      <td>24.0</td>\n",
              "      <td>F</td>\n",
              "      <td>False</td>\n",
              "      <td>False</td>\n",
              "      <td>False</td>\n",
              "      <td>False</td>\n",
              "      <td>False</td>\n",
              "      <td>False</td>\n",
              "      <td>False</td>\n",
              "      <td>False</td>\n",
              "      <td>False</td>\n",
              "      <td>False</td>\n",
              "      <td>False</td>\n",
              "      <td>y</td>\n",
              "      <td>430.0</td>\n",
              "      <td>y</td>\n",
              "      <td>0.4</td>\n",
              "      <td>y</td>\n",
              "      <td>6.0</td>\n",
              "      <td>y</td>\n",
              "      <td>1.04</td>\n",
              "      <td>y</td>\n",
              "      <td>6.0</td>\n",
              "    </tr>\n",
              "    <tr>\n",
              "      <th>4</th>\n",
              "      <td>hypothyroid</td>\n",
              "      <td>77.0</td>\n",
              "      <td>M</td>\n",
              "      <td>False</td>\n",
              "      <td>False</td>\n",
              "      <td>False</td>\n",
              "      <td>False</td>\n",
              "      <td>False</td>\n",
              "      <td>False</td>\n",
              "      <td>False</td>\n",
              "      <td>False</td>\n",
              "      <td>False</td>\n",
              "      <td>False</td>\n",
              "      <td>False</td>\n",
              "      <td>y</td>\n",
              "      <td>7.3</td>\n",
              "      <td>y</td>\n",
              "      <td>1.2</td>\n",
              "      <td>y</td>\n",
              "      <td>57.0</td>\n",
              "      <td>y</td>\n",
              "      <td>1.28</td>\n",
              "      <td>y</td>\n",
              "      <td>44.0</td>\n",
              "    </tr>\n",
              "  </tbody>\n",
              "</table>\n",
              "</div>"
            ],
            "text/plain": [
              "        status   age sex  on_thyroxine  ...  T4U_measured   T4U  FTI_measured   FTI\n",
              "0  hypothyroid  72.0   M         False  ...             y  1.48             y  10.0\n",
              "1  hypothyroid  15.0   F          True  ...             y  1.13             y  17.0\n",
              "2  hypothyroid  24.0   M         False  ...             y  1.00             y   0.0\n",
              "3  hypothyroid  24.0   F         False  ...             y  1.04             y   6.0\n",
              "4  hypothyroid  77.0   M         False  ...             y  1.28             y  44.0\n",
              "\n",
              "[5 rows x 24 columns]"
            ]
          },
          "metadata": {
            "tags": []
          },
          "execution_count": 78
        }
      ]
    },
    {
      "cell_type": "code",
      "metadata": {
        "id": "QDAu3xe_SV13",
        "colab_type": "code",
        "colab": {}
      },
      "source": [
        ""
      ],
      "execution_count": 0,
      "outputs": []
    },
    {
      "cell_type": "markdown",
      "metadata": {
        "id": "ucrC4NvvofwW",
        "colab_type": "text"
      },
      "source": [
        "### **BIVARIATE ANALYSIS**"
      ]
    },
    {
      "cell_type": "markdown",
      "metadata": {
        "id": "wP2_XACz8SdQ",
        "colab_type": "text"
      },
      "source": [
        "# **MODELLING**"
      ]
    },
    {
      "cell_type": "code",
      "metadata": {
        "id": "y1UmsnD3dkq9",
        "colab_type": "code",
        "colab": {}
      },
      "source": [
        "# importing all the necessary libaries\n",
        "from sklearn.preprocessing import StandardScaler, LabelEncoder\n",
        "from sklearn.tree import DecisionTreeClassifier\n",
        "from sklearn.model_selection import train_test_split, GridSearchCV, RandomizedSearchCV, KFold, cross_val_score\n",
        "from sklearn.ensemble import AdaBoostClassifier, RandomForestClassifier, GradientBoostingClassifier\n",
        "from sklearn.svm import SVC\n",
        "from xgboost import XGBClassifier\n",
        "from sklearn.neighbors import KNeighborsClassifier\n",
        "from sklearn.linear_model import LogisticRegression\n",
        "from sklearn.tree import export_graphviz \n",
        "from IPython.display import Image  \n",
        "import pydotplus\n",
        "from sklearn.metrics import accuracy_score, confusion_matrix, classification_report, f1_score\n",
        "import warnings"
      ],
      "execution_count": 0,
      "outputs": []
    },
    {
      "cell_type": "markdown",
      "metadata": {
        "id": "9PEsYnrcHdrx",
        "colab_type": "text"
      },
      "source": [
        "### **BASELINE MODEL**"
      ]
    },
    {
      "cell_type": "code",
      "metadata": {
        "id": "Mw7KcPOoTjlT",
        "colab_type": "code",
        "colab": {}
      },
      "source": [
        "# Selecting the independent variables and the target variable\n",
        "#\n",
        "X = df.drop('status', axis = 1)\n",
        "y = np.where(df.status == 'hypothyroid', 1, 0)\n",
        "\n",
        "# Encoding categorical variables\n",
        "#\n",
        "X = pd.get_dummies(X)\n",
        "\n",
        "# Splitting the data into training and testing sets\n",
        "#\n",
        "X_train, X_test, y_train, y_test = train_test_split(X, y, test_size = 0.3, random_state = 0)\n",
        "\n"
      ],
      "execution_count": 0,
      "outputs": []
    },
    {
      "cell_type": "code",
      "metadata": {
        "id": "azUHH7d5xLfq",
        "colab_type": "code",
        "outputId": "7489787a-06a1-4a52-83c8-074d8df5190f",
        "colab": {
          "base_uri": "https://localhost:8080/",
          "height": 34
        }
      },
      "source": [
        "\n",
        "\n",
        "# Create a decision tree classifier\n",
        "\n",
        "tree = DecisionTreeClassifier()\n",
        "\n",
        "# Train it on our training set.\n",
        "tree = tree.fit(X_train, y_train)\n",
        "\n",
        "# Predict based on the model we've trained\n",
        "y_pred = tree.predict(X_test)\n",
        "\n",
        "\n",
        "from sklearn import metrics\n",
        "# Model Accuracy, how often is the classifier correct?\n",
        "print(\"Accuracy:\",metrics.accuracy_score(y_test, y_pred))"
      ],
      "execution_count": 0,
      "outputs": [
        {
          "output_type": "stream",
          "text": [
            "Accuracy: 0.9881209503239741\n"
          ],
          "name": "stdout"
        }
      ]
    },
    {
      "cell_type": "markdown",
      "metadata": {
        "id": "Jx96VJNoWy5c",
        "colab_type": "text"
      },
      "source": [
        "The model accuracy for the baseline model is .988."
      ]
    },
    {
      "cell_type": "markdown",
      "metadata": {
        "id": "mBIhKVhwXi3E",
        "colab_type": "text"
      },
      "source": [
        "### **Random Forest Approach**"
      ]
    },
    {
      "cell_type": "code",
      "metadata": {
        "id": "CmRZNVVtDh-J",
        "colab_type": "code",
        "outputId": "0fc237c6-6e42-4b78-d859-531a18abf016",
        "colab": {
          "base_uri": "https://localhost:8080/",
          "height": 255
        }
      },
      "source": [
        "# Random forest approach\n",
        "# Import the model\n",
        "from sklearn.ensemble import RandomForestClassifier\n",
        "\n",
        "\n",
        "# Instantiating the model\n",
        "#\n",
        "RFC = RandomForestClassifier(random_state = 0)\n",
        "RFC.fit(X_train, y_train)\n",
        "\n",
        "# Making predictions\n",
        "#\n",
        "y_pred = RFC.predict(X_test)\n",
        "\n",
        "# Measuring the accuracy of the model\n",
        "#\n",
        "print(f'The accuracy score is: {accuracy_score(y_test, y_pred)} and the f1 score is {f1_score(y_test, y_pred)}')\n",
        "print('\\n')\n",
        "print(f'{classification_report(y_test, y_pred)}')\n",
        "confusion_matrix(y_test, y_pred)\n"
      ],
      "execution_count": 0,
      "outputs": [
        {
          "output_type": "stream",
          "text": [
            "The accuracy score is: 0.990280777537797 and the f1 score is 0.8799999999999999\n",
            "\n",
            "\n",
            "              precision    recall  f1-score   support\n",
            "\n",
            "           0       0.99      1.00      0.99       887\n",
            "           1       0.92      0.85      0.88        39\n",
            "\n",
            "    accuracy                           0.99       926\n",
            "   macro avg       0.95      0.92      0.94       926\n",
            "weighted avg       0.99      0.99      0.99       926\n",
            "\n"
          ],
          "name": "stdout"
        },
        {
          "output_type": "execute_result",
          "data": {
            "text/plain": [
              "array([[884,   3],\n",
              "       [  6,  33]])"
            ]
          },
          "metadata": {
            "tags": []
          },
          "execution_count": 88
        }
      ]
    },
    {
      "cell_type": "code",
      "metadata": {
        "id": "MJVmPb6gYHND",
        "colab_type": "code",
        "outputId": "9ad3972f-25bc-43eb-f207-a27c6eb25bb8",
        "colab": {
          "base_uri": "https://localhost:8080/",
          "height": 979
        }
      },
      "source": [
        "# Checking for the most important features \n",
        "# create a df of the features and their importance\n",
        "# in ascending order\n",
        "#\n",
        "important_df = pd.DataFrame({'feature': X.columns, 'importance': np.round(RFC.feature_importances_, 4)}).set_index('feature').sort_values(by = 'importance', ascending = False)\n",
        "important_df"
      ],
      "execution_count": 0,
      "outputs": [
        {
          "output_type": "execute_result",
          "data": {
            "text/html": [
              "<div>\n",
              "<style scoped>\n",
              "    .dataframe tbody tr th:only-of-type {\n",
              "        vertical-align: middle;\n",
              "    }\n",
              "\n",
              "    .dataframe tbody tr th {\n",
              "        vertical-align: top;\n",
              "    }\n",
              "\n",
              "    .dataframe thead th {\n",
              "        text-align: right;\n",
              "    }\n",
              "</style>\n",
              "<table border=\"1\" class=\"dataframe\">\n",
              "  <thead>\n",
              "    <tr style=\"text-align: right;\">\n",
              "      <th></th>\n",
              "      <th>importance</th>\n",
              "    </tr>\n",
              "    <tr>\n",
              "      <th>feature</th>\n",
              "      <th></th>\n",
              "    </tr>\n",
              "  </thead>\n",
              "  <tbody>\n",
              "    <tr>\n",
              "      <th>FTI</th>\n",
              "      <td>0.3039</td>\n",
              "    </tr>\n",
              "    <tr>\n",
              "      <th>TSH</th>\n",
              "      <td>0.2379</td>\n",
              "    </tr>\n",
              "    <tr>\n",
              "      <th>TT4</th>\n",
              "      <td>0.2246</td>\n",
              "    </tr>\n",
              "    <tr>\n",
              "      <th>T3</th>\n",
              "      <td>0.0786</td>\n",
              "    </tr>\n",
              "    <tr>\n",
              "      <th>T4U</th>\n",
              "      <td>0.0479</td>\n",
              "    </tr>\n",
              "    <tr>\n",
              "      <th>age</th>\n",
              "      <td>0.0427</td>\n",
              "    </tr>\n",
              "    <tr>\n",
              "      <th>query_hypothyroid</th>\n",
              "      <td>0.0100</td>\n",
              "    </tr>\n",
              "    <tr>\n",
              "      <th>on_antithyroid_medication</th>\n",
              "      <td>0.0097</td>\n",
              "    </tr>\n",
              "    <tr>\n",
              "      <th>TSH_measured_n</th>\n",
              "      <td>0.0060</td>\n",
              "    </tr>\n",
              "    <tr>\n",
              "      <th>on_thyroxine</th>\n",
              "      <td>0.0057</td>\n",
              "    </tr>\n",
              "    <tr>\n",
              "      <th>thyroid_surgery</th>\n",
              "      <td>0.0052</td>\n",
              "    </tr>\n",
              "    <tr>\n",
              "      <th>TSH_measured_y</th>\n",
              "      <td>0.0047</td>\n",
              "    </tr>\n",
              "    <tr>\n",
              "      <th>sex_M</th>\n",
              "      <td>0.0044</td>\n",
              "    </tr>\n",
              "    <tr>\n",
              "      <th>sex_F</th>\n",
              "      <td>0.0042</td>\n",
              "    </tr>\n",
              "    <tr>\n",
              "      <th>sick</th>\n",
              "      <td>0.0033</td>\n",
              "    </tr>\n",
              "    <tr>\n",
              "      <th>T3_measured_n</th>\n",
              "      <td>0.0029</td>\n",
              "    </tr>\n",
              "    <tr>\n",
              "      <th>query_hyperthyroid</th>\n",
              "      <td>0.0025</td>\n",
              "    </tr>\n",
              "    <tr>\n",
              "      <th>goitre</th>\n",
              "      <td>0.0024</td>\n",
              "    </tr>\n",
              "    <tr>\n",
              "      <th>T3_measured_y</th>\n",
              "      <td>0.0019</td>\n",
              "    </tr>\n",
              "    <tr>\n",
              "      <th>pregnant</th>\n",
              "      <td>0.0008</td>\n",
              "    </tr>\n",
              "    <tr>\n",
              "      <th>tumor</th>\n",
              "      <td>0.0002</td>\n",
              "    </tr>\n",
              "    <tr>\n",
              "      <th>query_on_thyroxine</th>\n",
              "      <td>0.0001</td>\n",
              "    </tr>\n",
              "    <tr>\n",
              "      <th>TT4_measured_n</th>\n",
              "      <td>0.0001</td>\n",
              "    </tr>\n",
              "    <tr>\n",
              "      <th>TT4_measured_y</th>\n",
              "      <td>0.0001</td>\n",
              "    </tr>\n",
              "    <tr>\n",
              "      <th>T4U_measured_n</th>\n",
              "      <td>0.0001</td>\n",
              "    </tr>\n",
              "    <tr>\n",
              "      <th>FTI_measured_y</th>\n",
              "      <td>0.0001</td>\n",
              "    </tr>\n",
              "    <tr>\n",
              "      <th>lithium</th>\n",
              "      <td>0.0000</td>\n",
              "    </tr>\n",
              "    <tr>\n",
              "      <th>T4U_measured_y</th>\n",
              "      <td>0.0000</td>\n",
              "    </tr>\n",
              "    <tr>\n",
              "      <th>FTI_measured_n</th>\n",
              "      <td>0.0000</td>\n",
              "    </tr>\n",
              "  </tbody>\n",
              "</table>\n",
              "</div>"
            ],
            "text/plain": [
              "                           importance\n",
              "feature                              \n",
              "FTI                            0.3039\n",
              "TSH                            0.2379\n",
              "TT4                            0.2246\n",
              "T3                             0.0786\n",
              "T4U                            0.0479\n",
              "age                            0.0427\n",
              "query_hypothyroid              0.0100\n",
              "on_antithyroid_medication      0.0097\n",
              "TSH_measured_n                 0.0060\n",
              "on_thyroxine                   0.0057\n",
              "thyroid_surgery                0.0052\n",
              "TSH_measured_y                 0.0047\n",
              "sex_M                          0.0044\n",
              "sex_F                          0.0042\n",
              "sick                           0.0033\n",
              "T3_measured_n                  0.0029\n",
              "query_hyperthyroid             0.0025\n",
              "goitre                         0.0024\n",
              "T3_measured_y                  0.0019\n",
              "pregnant                       0.0008\n",
              "tumor                          0.0002\n",
              "query_on_thyroxine             0.0001\n",
              "TT4_measured_n                 0.0001\n",
              "TT4_measured_y                 0.0001\n",
              "T4U_measured_n                 0.0001\n",
              "FTI_measured_y                 0.0001\n",
              "lithium                        0.0000\n",
              "T4U_measured_y                 0.0000\n",
              "FTI_measured_n                 0.0000"
            ]
          },
          "metadata": {
            "tags": []
          },
          "execution_count": 93
        }
      ]
    },
    {
      "cell_type": "markdown",
      "metadata": {
        "id": "8bNONJaBYhry",
        "colab_type": "text"
      },
      "source": [
        "From the given df, it is evident that the FTI column is the most important feature followed by the TSH feature.\n",
        "\n",
        "We could visualize the output above in a barchart. "
      ]
    },
    {
      "cell_type": "code",
      "metadata": {
        "id": "pMtF3hzfY9DU",
        "colab_type": "code",
        "outputId": "530b39c6-b867-471e-ea1e-b8139cb0ddc1",
        "colab": {
          "base_uri": "https://localhost:8080/",
          "height": 748
        }
      },
      "source": [
        "# Creating a bar chart of feature importance in descending order\n",
        "#\n",
        "important_df = impo_df[:12].sort_values(by = 'importance', ascending = False)\n",
        "important_df.plot(kind = 'bar', figsize = (10, 10), color = 'green')\n",
        "plt.legend(loc = 'center right')\n",
        "plt.title('Bar chart showing feature importance', color = 'yellow', fontsize = 14)\n",
        "plt.xlabel('Features', fontsize = 12, color = 'yellow')\n",
        "plt.show()"
      ],
      "execution_count": 0,
      "outputs": [
        {
          "output_type": "display_data",
          "data": {
            "image/png": "[encoded data removed]",
            "text/plain": [
              "<Figure size 720x720 with 1 Axes>"
            ]
          },
          "metadata": {
            "tags": []
          }
        }
      ]
    },
    {
      "cell_type": "markdown",
      "metadata": {
        "id": "80Jnq-tyaEsT",
        "colab_type": "text"
      },
      "source": [
        "As shown above, the most important features are:\n",
        "FTI, TSH, TT4, T3, T4U and Age. "
      ]
    },
    {
      "cell_type": "markdown",
      "metadata": {
        "id": "ne8M9174Z0or",
        "colab_type": "text"
      },
      "source": [
        "####  *Remodeling using just the Important features*"
      ]
    },
    {
      "cell_type": "code",
      "metadata": {
        "id": "yDpNY3FXZ8zp",
        "colab_type": "code",
        "outputId": "dcb1573e-431a-4f1c-e748-1fd1a72683c8",
        "colab": {
          "base_uri": "https://localhost:8080/",
          "height": 255
        }
      },
      "source": [
        "# Selecting the independent variables and the target variable\n",
        "#\n",
        "X = X[['age', 'on_thyroxine', 'sex_F', 'sex_M', 'TSH_measured_y',\n",
        "        'thyroid_surgery', 'sick', 'TSH', 'T3', 'TT4', 'T4U', 'FTI', 'TSH_measured_n']]\n",
        "y = np.where(df.status == 'hypothyroid', 1, 0)\n",
        "\n",
        "\n",
        "# Splitting the data into training and testing sets\n",
        "#\n",
        "X_train, X_test, y_train, y_test = train_test_split(X, y, test_size = 0.3, random_state = 0)\n",
        "\n",
        "# instanting the model\n",
        "RFC = RandomForestClassifier(random_state = 0)\n",
        "RFC.fit(X_train, y_train)\n",
        "\n",
        "# Making predictions\n",
        "#\n",
        "y_pred = RFC.predict(X_test)\n",
        "\n",
        "# Measuring the accuracy of the model\n",
        "#\n",
        "print(f'The accuracy score is: {accuracy_score(y_test, y_pred)} and the f1 score is {f1_score(y_test, y_pred)}')\n",
        "print('\\n')\n",
        "print(f'{classification_report(y_test, y_pred)}')\n",
        "confusion_matrix(y_test, y_pred)\n",
        "\n"
      ],
      "execution_count": 0,
      "outputs": [
        {
          "output_type": "stream",
          "text": [
            "The accuracy score is: 0.9935205183585313 and the f1 score is 0.9210526315789475\n",
            "\n",
            "\n",
            "              precision    recall  f1-score   support\n",
            "\n",
            "           0       1.00      1.00      1.00       887\n",
            "           1       0.95      0.90      0.92        39\n",
            "\n",
            "    accuracy                           0.99       926\n",
            "   macro avg       0.97      0.95      0.96       926\n",
            "weighted avg       0.99      0.99      0.99       926\n",
            "\n"
          ],
          "name": "stdout"
        },
        {
          "output_type": "execute_result",
          "data": {
            "text/plain": [
              "array([[885,   2],\n",
              "       [  4,  35]])"
            ]
          },
          "metadata": {
            "tags": []
          },
          "execution_count": 99
        }
      ]
    },
    {
      "cell_type": "markdown",
      "metadata": {
        "id": "p8F_z7EVbM98",
        "colab_type": "text"
      },
      "source": [
        "The F1 score has gotten better in the model using just the important features. "
      ]
    },
    {
      "cell_type": "markdown",
      "metadata": {
        "id": "DZWkrYancTAn",
        "colab_type": "text"
      },
      "source": [
        "#### **ADABOOST APPROACH**"
      ]
    },
    {
      "cell_type": "code",
      "metadata": {
        "id": "Ro6sESH9cqey",
        "colab_type": "code",
        "outputId": "997a89d4-aa2c-430b-a16e-db65ceab3f34",
        "colab": {
          "base_uri": "https://localhost:8080/",
          "height": 255
        }
      },
      "source": [
        "# Selecting the independent variables and the target variable\n",
        "#\n",
        "X = df.drop('status', axis = 1)\n",
        "y = np.where(df.status == 'hypothyroid', 1, 0)\n",
        "\n",
        "# Encoding categorical variables\n",
        "#\n",
        "X = pd.get_dummies(X)\n",
        "\n",
        "# Splitting the data into training and testing sets\n",
        "#\n",
        "X_train, X_test, y_train, y_test = train_test_split(X, y, test_size = 0.3, random_state = 0)\n",
        "\n",
        "# Instantiating the model\n",
        "#\n",
        "ABC = AdaBoostClassifier(random_state = 0)\n",
        "ABC.fit(X_train, y_train)\n",
        "\n",
        "# Making predictions\n",
        "#\n",
        "y_pred = ABC.predict(X_test)\n",
        "\n",
        "# Measuring the accuracy of the model\n",
        "#\n",
        "acc_1 = accuracy_score(y_test, y_pred)\n",
        "f1_1 = f1_score(y_test, y_pred)\n",
        "\n",
        "print(f'The accuracy score is: {acc_1} and the f1 score is {f1_1}')\n",
        "print('\\n')\n",
        "print(f'{classification_report(y_test, y_pred)}')\n",
        "confusion_matrix(y_test, y_pred)"
      ],
      "execution_count": 0,
      "outputs": [
        {
          "output_type": "stream",
          "text": [
            "The accuracy score is: 0.9935205183585313 and the f1 score is 0.9210526315789475\n",
            "\n",
            "\n",
            "              precision    recall  f1-score   support\n",
            "\n",
            "           0       1.00      1.00      1.00       887\n",
            "           1       0.95      0.90      0.92        39\n",
            "\n",
            "    accuracy                           0.99       926\n",
            "   macro avg       0.97      0.95      0.96       926\n",
            "weighted avg       0.99      0.99      0.99       926\n",
            "\n"
          ],
          "name": "stdout"
        },
        {
          "output_type": "execute_result",
          "data": {
            "text/plain": [
              "array([[885,   2],\n",
              "       [  4,  35]])"
            ]
          },
          "metadata": {
            "tags": []
          },
          "execution_count": 103
        }
      ]
    },
    {
      "cell_type": "code",
      "metadata": {
        "id": "8iQNgD_jd9Ga",
        "colab_type": "code",
        "outputId": "3608f819-5b83-4f96-efaf-e908e61ed0e5",
        "colab": {
          "base_uri": "https://localhost:8080/",
          "height": 979
        }
      },
      "source": [
        "# df to show the most important features in the model\n",
        "# in descending order\n",
        "imp_df = pd.DataFrame({'feature': X.columns, 'importance': np.round(ABC.feature_importances_, 4)}).set_index('feature').sort_values(by = 'importance', ascending = False)\n",
        "imp_df"
      ],
      "execution_count": 0,
      "outputs": [
        {
          "output_type": "execute_result",
          "data": {
            "text/html": [
              "<div>\n",
              "<style scoped>\n",
              "    .dataframe tbody tr th:only-of-type {\n",
              "        vertical-align: middle;\n",
              "    }\n",
              "\n",
              "    .dataframe tbody tr th {\n",
              "        vertical-align: top;\n",
              "    }\n",
              "\n",
              "    .dataframe thead th {\n",
              "        text-align: right;\n",
              "    }\n",
              "</style>\n",
              "<table border=\"1\" class=\"dataframe\">\n",
              "  <thead>\n",
              "    <tr style=\"text-align: right;\">\n",
              "      <th></th>\n",
              "      <th>importance</th>\n",
              "    </tr>\n",
              "    <tr>\n",
              "      <th>feature</th>\n",
              "      <th></th>\n",
              "    </tr>\n",
              "  </thead>\n",
              "  <tbody>\n",
              "    <tr>\n",
              "      <th>FTI</th>\n",
              "      <td>0.22</td>\n",
              "    </tr>\n",
              "    <tr>\n",
              "      <th>age</th>\n",
              "      <td>0.16</td>\n",
              "    </tr>\n",
              "    <tr>\n",
              "      <th>TSH</th>\n",
              "      <td>0.16</td>\n",
              "    </tr>\n",
              "    <tr>\n",
              "      <th>T4U</th>\n",
              "      <td>0.12</td>\n",
              "    </tr>\n",
              "    <tr>\n",
              "      <th>T3</th>\n",
              "      <td>0.12</td>\n",
              "    </tr>\n",
              "    <tr>\n",
              "      <th>TT4</th>\n",
              "      <td>0.12</td>\n",
              "    </tr>\n",
              "    <tr>\n",
              "      <th>on_antithyroid_medication</th>\n",
              "      <td>0.04</td>\n",
              "    </tr>\n",
              "    <tr>\n",
              "      <th>query_hypothyroid</th>\n",
              "      <td>0.02</td>\n",
              "    </tr>\n",
              "    <tr>\n",
              "      <th>thyroid_surgery</th>\n",
              "      <td>0.02</td>\n",
              "    </tr>\n",
              "    <tr>\n",
              "      <th>on_thyroxine</th>\n",
              "      <td>0.02</td>\n",
              "    </tr>\n",
              "    <tr>\n",
              "      <th>query_hyperthyroid</th>\n",
              "      <td>0.00</td>\n",
              "    </tr>\n",
              "    <tr>\n",
              "      <th>TSH_measured_y</th>\n",
              "      <td>0.00</td>\n",
              "    </tr>\n",
              "    <tr>\n",
              "      <th>FTI_measured_n</th>\n",
              "      <td>0.00</td>\n",
              "    </tr>\n",
              "    <tr>\n",
              "      <th>T4U_measured_y</th>\n",
              "      <td>0.00</td>\n",
              "    </tr>\n",
              "    <tr>\n",
              "      <th>T4U_measured_n</th>\n",
              "      <td>0.00</td>\n",
              "    </tr>\n",
              "    <tr>\n",
              "      <th>TT4_measured_y</th>\n",
              "      <td>0.00</td>\n",
              "    </tr>\n",
              "    <tr>\n",
              "      <th>TT4_measured_n</th>\n",
              "      <td>0.00</td>\n",
              "    </tr>\n",
              "    <tr>\n",
              "      <th>T3_measured_y</th>\n",
              "      <td>0.00</td>\n",
              "    </tr>\n",
              "    <tr>\n",
              "      <th>T3_measured_n</th>\n",
              "      <td>0.00</td>\n",
              "    </tr>\n",
              "    <tr>\n",
              "      <th>sex_F</th>\n",
              "      <td>0.00</td>\n",
              "    </tr>\n",
              "    <tr>\n",
              "      <th>TSH_measured_n</th>\n",
              "      <td>0.00</td>\n",
              "    </tr>\n",
              "    <tr>\n",
              "      <th>sex_M</th>\n",
              "      <td>0.00</td>\n",
              "    </tr>\n",
              "    <tr>\n",
              "      <th>pregnant</th>\n",
              "      <td>0.00</td>\n",
              "    </tr>\n",
              "    <tr>\n",
              "      <th>query_on_thyroxine</th>\n",
              "      <td>0.00</td>\n",
              "    </tr>\n",
              "    <tr>\n",
              "      <th>goitre</th>\n",
              "      <td>0.00</td>\n",
              "    </tr>\n",
              "    <tr>\n",
              "      <th>lithium</th>\n",
              "      <td>0.00</td>\n",
              "    </tr>\n",
              "    <tr>\n",
              "      <th>tumor</th>\n",
              "      <td>0.00</td>\n",
              "    </tr>\n",
              "    <tr>\n",
              "      <th>sick</th>\n",
              "      <td>0.00</td>\n",
              "    </tr>\n",
              "    <tr>\n",
              "      <th>FTI_measured_y</th>\n",
              "      <td>0.00</td>\n",
              "    </tr>\n",
              "  </tbody>\n",
              "</table>\n",
              "</div>"
            ],
            "text/plain": [
              "                           importance\n",
              "feature                              \n",
              "FTI                              0.22\n",
              "age                              0.16\n",
              "TSH                              0.16\n",
              "T4U                              0.12\n",
              "T3                               0.12\n",
              "TT4                              0.12\n",
              "on_antithyroid_medication        0.04\n",
              "query_hypothyroid                0.02\n",
              "thyroid_surgery                  0.02\n",
              "on_thyroxine                     0.02\n",
              "query_hyperthyroid               0.00\n",
              "TSH_measured_y                   0.00\n",
              "FTI_measured_n                   0.00\n",
              "T4U_measured_y                   0.00\n",
              "T4U_measured_n                   0.00\n",
              "TT4_measured_y                   0.00\n",
              "TT4_measured_n                   0.00\n",
              "T3_measured_y                    0.00\n",
              "T3_measured_n                    0.00\n",
              "sex_F                            0.00\n",
              "TSH_measured_n                   0.00\n",
              "sex_M                            0.00\n",
              "pregnant                         0.00\n",
              "query_on_thyroxine               0.00\n",
              "goitre                           0.00\n",
              "lithium                          0.00\n",
              "tumor                            0.00\n",
              "sick                             0.00\n",
              "FTI_measured_y                   0.00"
            ]
          },
          "metadata": {
            "tags": []
          },
          "execution_count": 106
        }
      ]
    },
    {
      "cell_type": "code",
      "metadata": {
        "id": "EbmmsIyUeFHi",
        "colab_type": "code",
        "outputId": "1adefd2a-19b7-45f7-e0b6-1cae07708884",
        "colab": {
          "base_uri": "https://localhost:8080/",
          "height": 748
        }
      },
      "source": [
        "# VISUALIIZNG THE OUTPUT ABOVE\n",
        "\n",
        "imp_df = imp_df[:12].sort_values(by = 'importance', ascending = False)\n",
        "imp_df.plot(kind = 'bar', figsize = (10, 10), color = 'green')\n",
        "plt.legend(loc = 'center right')\n",
        "plt.title('Bar chart showing feature importance', color = 'yellow', fontsize = 14)\n",
        "plt.xlabel('Features', fontsize = 12, color = 'yellow')\n",
        "plt.show()"
      ],
      "execution_count": 0,
      "outputs": [
        {
          "output_type": "display_data",
          "data": {
            "image/png": "[encoded data removed]",
            "text/plain": [
              "<Figure size 720x720 with 1 Axes>"
            ]
          },
          "metadata": {
            "tags": []
          }
        }
      ]
    },
    {
      "cell_type": "code",
      "metadata": {
        "id": "lM6_FBlBek-V",
        "colab_type": "code",
        "outputId": "9de5ec93-e58f-4d6f-8594-1f5d5d31c0e8",
        "colab": {
          "base_uri": "https://localhost:8080/",
          "height": 255
        }
      },
      "source": [
        "# remodelling using the most important features\n",
        "# Selecting the independent variables and the target variable\n",
        "#\n",
        "X = X[['age', 'on_thyroxine', 'thyroid_surgery', 'TSH', 'T3', 'TT4', 'T4U', 'FTI']]\n",
        "\n",
        "y = np.where(df.status == 'hypothyroid', 1, 0)\n",
        "\n",
        "\n",
        "# Splitting the data into training and testing sets\n",
        "#\n",
        "X_train, X_test, y_train, y_test = train_test_split(X, y, test_size = 0.3, random_state = 0)\n",
        "\n",
        "# instanting the model\n",
        "ABC = AdaBoostClassifier(random_state = 0)\n",
        "ABC.fit(X_train, y_train)\n",
        "# Making predictions\n",
        "#\n",
        "y_pred = ABC.predict(X_test)\n",
        "\n",
        "# Measuring the accuracy of the model\n",
        "#\n",
        "print(f'The accuracy score is: {accuracy_score(y_test, y_pred)} and the f1 score is {f1_score(y_test, y_pred)}')\n",
        "print('\\n')\n",
        "print(f'{classification_report(y_test, y_pred)}')\n",
        "confusion_matrix(y_test, y_pred)\n",
        "\n"
      ],
      "execution_count": 0,
      "outputs": [
        {
          "output_type": "stream",
          "text": [
            "The accuracy score is: 0.990280777537797 and the f1 score is 0.8831168831168831\n",
            "\n",
            "\n",
            "              precision    recall  f1-score   support\n",
            "\n",
            "           0       0.99      1.00      0.99       887\n",
            "           1       0.89      0.87      0.88        39\n",
            "\n",
            "    accuracy                           0.99       926\n",
            "   macro avg       0.94      0.93      0.94       926\n",
            "weighted avg       0.99      0.99      0.99       926\n",
            "\n"
          ],
          "name": "stdout"
        },
        {
          "output_type": "execute_result",
          "data": {
            "text/plain": [
              "array([[883,   4],\n",
              "       [  5,  34]])"
            ]
          },
          "metadata": {
            "tags": []
          },
          "execution_count": 107
        }
      ]
    },
    {
      "cell_type": "markdown",
      "metadata": {
        "id": "HMaQ-cL0RXiq",
        "colab_type": "text"
      },
      "source": [
        "### **SUPPORT VECTOR MACHINE APPROACH**\n",
        "\n",
        "From the above 2 models, it is clear that the two most important features are TSH and FTI. We will use these two features in this approach to create the algorithmn. "
      ]
    },
    {
      "cell_type": "code",
      "metadata": {
        "id": "EBlceaBifwrh",
        "colab_type": "code",
        "outputId": "fb445594-3cef-4398-bb3c-f6385a380289",
        "colab": {
          "base_uri": "https://localhost:8080/",
          "height": 68
        }
      },
      "source": [
        "# getting the values for x and y\n",
        "X = df[['FTI', 'TSH']].values\n",
        "y = np.where(df.status == 'hypothyroid', 1, 0)\n",
        "\n",
        "# laoding and creating a list of models \n",
        "#\n",
        "poly = SVC(kernel='poly')\n",
        "linear = SVC(kernel = 'linear')\n",
        "rbf = SVC(kernel ='rbf')\n",
        "\n",
        "# Creating a list of the models and model names\n",
        "#\n",
        "models = [poly, linear, rbf]\n",
        "model_names = ['Polynomial', 'Linear', 'Rbf']\n",
        "\n",
        "def predictor(model, X, y):\n",
        "  # Splitting the data into training and testing sets\n",
        "  X_train, X_test, y_train, y_test = train_test_split(X, y, test_size = 0.3, random_state = 0)\n",
        "  \n",
        "  # Standardising the data\n",
        "  sc = StandardScaler()\n",
        "  X_train = sc.fit_transform(X_train)\n",
        "  X_test = sc.transform(X_test)\n",
        "  \n",
        "  # Training the model and making predictions\n",
        "  model.fit(X_train, y_train)\n",
        "  y_pred = model.predict(X_test)\n",
        "  \n",
        "  # Measuring the accuracy of the model\n",
        "  f1 = f1_score(y_test, y_pred)\n",
        "  acc = accuracy_score(y_test, y_pred)\n",
        "  \n",
        "  # Returning the accuracy and the model\n",
        "  return acc, f1, model\n",
        "\n",
        "# Getting the accuracies of the models  using a for loop\n",
        "#\n",
        "for model, name in zip(models, model_names):\n",
        "  \n",
        "  print(f'The accuracy score of {name:<10} is: {predictor(model, X, y)[0]} and the f1 score is: {predictor(model, X, y)[1]}')"
      ],
      "execution_count": 0,
      "outputs": [
        {
          "output_type": "stream",
          "text": [
            "The accuracy score of Polynomial is: 0.9838012958963283 and the f1 score is: 0.7692307692307693\n",
            "The accuracy score of Linear     is: 0.9859611231101512 and the f1 score is: 0.8169014084507042\n",
            "The accuracy score of Rbf        is: 0.9848812095032398 and the f1 score is: 0.7941176470588235\n"
          ],
          "name": "stdout"
        }
      ]
    },
    {
      "cell_type": "markdown",
      "metadata": {
        "id": "mFJsRbQamhww",
        "colab_type": "text"
      },
      "source": [
        "The linear SVM is the most accurate with an F1 score of 0.81. "
      ]
    }
  ]
}